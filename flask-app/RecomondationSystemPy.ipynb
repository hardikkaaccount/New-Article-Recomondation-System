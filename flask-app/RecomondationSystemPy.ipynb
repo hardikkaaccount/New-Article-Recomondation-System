{
 "cells": [
  {
   "cell_type": "code",
   "execution_count": 137,
   "metadata": {
    "_cell_guid": "b1076dfc-b9ad-4769-8c92-a6c4dae69d19",
    "_uuid": "8f2839f25d086af736a60e9eeb907d3b93b6e0e5"
   },
   "outputs": [],
   "source": [
    "\n",
    "import numpy as np # linear algebra\n",
    "import pandas as pd # data processing, CSV file I/O (e.g. pd.read_csv)\n",
    "\n",
    "\n",
    "import os\n",
    "for dirname, _, filenames in os.walk('/kaggle/input'):\n",
    "    for filename in filenames:\n",
    "        print(os.path.join(dirname, filename))\n"
   ]
  },
  {
   "cell_type": "code",
   "execution_count": 138,
   "metadata": {},
   "outputs": [
    {
     "data": {
      "text/html": [
       "<div>\n",
       "<style scoped>\n",
       "    .dataframe tbody tr th:only-of-type {\n",
       "        vertical-align: middle;\n",
       "    }\n",
       "\n",
       "    .dataframe tbody tr th {\n",
       "        vertical-align: top;\n",
       "    }\n",
       "\n",
       "    .dataframe thead th {\n",
       "        text-align: right;\n",
       "    }\n",
       "</style>\n",
       "<table border=\"1\" class=\"dataframe\">\n",
       "  <thead>\n",
       "    <tr style=\"text-align: right;\">\n",
       "      <th></th>\n",
       "      <th>Unnamed: 0.1</th>\n",
       "      <th>Unnamed: 0</th>\n",
       "      <th>link</th>\n",
       "      <th>text</th>\n",
       "      <th>title</th>\n",
       "      <th>date</th>\n",
       "      <th>keywords</th>\n",
       "      <th>summary</th>\n",
       "      <th>title_summary</th>\n",
       "    </tr>\n",
       "  </thead>\n",
       "  <tbody>\n",
       "    <tr>\n",
       "      <th>0</th>\n",
       "      <td>0</td>\n",
       "      <td>0</td>\n",
       "      <td>http://techcrunch.com/2020/09/07/vodafone-idea...</td>\n",
       "      <td>Vodafone Idea, one of the largest telecom oper...</td>\n",
       "      <td>Indian telecom giant Vodafone Idea rebrands as...</td>\n",
       "      <td>2020-09-07 00:00:00</td>\n",
       "      <td>['rebrands', 'idea', 'vi', 'giant', 'brand', '...</td>\n",
       "      <td>Vodafone Idea, one of the largest telecom oper...</td>\n",
       "      <td>Indian telecom giant Vodafone Idea rebrands as...</td>\n",
       "    </tr>\n",
       "  </tbody>\n",
       "</table>\n",
       "</div>"
      ],
      "text/plain": [
       "   Unnamed: 0.1  Unnamed: 0  \\\n",
       "0             0           0   \n",
       "\n",
       "                                                link  \\\n",
       "0  http://techcrunch.com/2020/09/07/vodafone-idea...   \n",
       "\n",
       "                                                text  \\\n",
       "0  Vodafone Idea, one of the largest telecom oper...   \n",
       "\n",
       "                                               title                 date  \\\n",
       "0  Indian telecom giant Vodafone Idea rebrands as...  2020-09-07 00:00:00   \n",
       "\n",
       "                                            keywords  \\\n",
       "0  ['rebrands', 'idea', 'vi', 'giant', 'brand', '...   \n",
       "\n",
       "                                             summary  \\\n",
       "0  Vodafone Idea, one of the largest telecom oper...   \n",
       "\n",
       "                                       title_summary  \n",
       "0  Indian telecom giant Vodafone Idea rebrands as...  "
      ]
     },
     "execution_count": 138,
     "metadata": {},
     "output_type": "execute_result"
    }
   ],
   "source": [
    "news = pd.read_csv('result_final.csv')\n",
    "df = pd.read_csv('result_final.csv')\n",
    "newses = pd.read_csv('result_final.csv')\n",
    "newses.head(1)\n"
   ]
  },
  {
   "cell_type": "code",
   "execution_count": 139,
   "metadata": {},
   "outputs": [],
   "source": [
    "def databaseU():\n",
    "    L = []\n",
    "    for i in range(0, 2190):\n",
    "        L.append(str(news['title'][i]))\n",
    "\n",
    "    return L"
   ]
  },
  {
   "cell_type": "code",
   "execution_count": 140,
   "metadata": {},
   "outputs": [],
   "source": [
    "List1 = databaseU()"
   ]
  },
  {
   "cell_type": "code",
   "execution_count": 141,
   "metadata": {},
   "outputs": [],
   "source": [
    "news = news[['text','title','keywords','summary','title_summary']]"
   ]
  },
  {
   "cell_type": "code",
   "execution_count": 142,
   "metadata": {
    "scrolled": true
   },
   "outputs": [
    {
     "data": {
      "text/html": [
       "<div>\n",
       "<style scoped>\n",
       "    .dataframe tbody tr th:only-of-type {\n",
       "        vertical-align: middle;\n",
       "    }\n",
       "\n",
       "    .dataframe tbody tr th {\n",
       "        vertical-align: top;\n",
       "    }\n",
       "\n",
       "    .dataframe thead th {\n",
       "        text-align: right;\n",
       "    }\n",
       "</style>\n",
       "<table border=\"1\" class=\"dataframe\">\n",
       "  <thead>\n",
       "    <tr style=\"text-align: right;\">\n",
       "      <th></th>\n",
       "      <th>text</th>\n",
       "      <th>title</th>\n",
       "      <th>summary</th>\n",
       "      <th>title_summary</th>\n",
       "      <th>title_copy</th>\n",
       "    </tr>\n",
       "  </thead>\n",
       "  <tbody>\n",
       "    <tr>\n",
       "      <th>0</th>\n",
       "      <td>Vodafone Idea, one of the largest telecom oper...</td>\n",
       "      <td>Indian telecom giant Vodafone Idea rebrands as...</td>\n",
       "      <td>Vodafone Idea, one of the largest telecom oper...</td>\n",
       "      <td>Indian telecom giant Vodafone Idea rebrands as...</td>\n",
       "      <td>Indian telecom giant Vodafone Idea rebrands as...</td>\n",
       "    </tr>\n",
       "    <tr>\n",
       "      <th>1</th>\n",
       "      <td>At the beginning of the previous decade, Faceb...</td>\n",
       "      <td>Facebook addresses political controversy in In...</td>\n",
       "      <td>Politicians in the country today heavily rely ...</td>\n",
       "      <td>Facebook addresses political controversy in In...</td>\n",
       "      <td>Facebook addresses political controversy in In...</td>\n",
       "    </tr>\n",
       "  </tbody>\n",
       "</table>\n",
       "</div>"
      ],
      "text/plain": [
       "                                                text  \\\n",
       "0  Vodafone Idea, one of the largest telecom oper...   \n",
       "1  At the beginning of the previous decade, Faceb...   \n",
       "\n",
       "                                               title  \\\n",
       "0  Indian telecom giant Vodafone Idea rebrands as...   \n",
       "1  Facebook addresses political controversy in In...   \n",
       "\n",
       "                                             summary  \\\n",
       "0  Vodafone Idea, one of the largest telecom oper...   \n",
       "1  Politicians in the country today heavily rely ...   \n",
       "\n",
       "                                       title_summary  \\\n",
       "0  Indian telecom giant Vodafone Idea rebrands as...   \n",
       "1  Facebook addresses political controversy in In...   \n",
       "\n",
       "                                          title_copy  \n",
       "0  Indian telecom giant Vodafone Idea rebrands as...  \n",
       "1  Facebook addresses political controversy in In...  "
      ]
     },
     "execution_count": 142,
     "metadata": {},
     "output_type": "execute_result"
    }
   ],
   "source": [
    "news['title_copy'] = news['title'].copy()\n",
    "news = news.drop(columns=['keywords'])\n",
    "news.head(2)"
   ]
  },
  {
   "cell_type": "code",
   "execution_count": 143,
   "metadata": {},
   "outputs": [
    {
     "data": {
      "text/plain": [
       "Unnamed: 0.1       0\n",
       "Unnamed: 0         0\n",
       "link               0\n",
       "text               6\n",
       "title              3\n",
       "date             499\n",
       "keywords           3\n",
       "summary            6\n",
       "title_summary      6\n",
       "dtype: int64"
      ]
     },
     "execution_count": 143,
     "metadata": {},
     "output_type": "execute_result"
    }
   ],
   "source": [
    "news.isnull().sum()\n",
    "newses.isnull().sum()\n",
    "df.isnull().sum()\n"
   ]
  },
  {
   "cell_type": "code",
   "execution_count": 144,
   "metadata": {},
   "outputs": [],
   "source": [
    "news.dropna(inplace=True)\n",
    "df['date'] = df['date'].fillna('2020-09-07 00:00:00')\n",
    "df['date'] = df['date'].fillna('2020-09-07 00:00:00')\n",
    "newses.dropna(inplace=True)\n",
    "newses.dropna(inplace=True)\n",
    "\n"
   ]
  },
  {
   "cell_type": "code",
   "execution_count": 145,
   "metadata": {},
   "outputs": [
    {
     "data": {
      "text/plain": [
       "Unnamed: 0.1     0\n",
       "Unnamed: 0       0\n",
       "link             0\n",
       "text             6\n",
       "title            3\n",
       "date             0\n",
       "keywords         3\n",
       "summary          6\n",
       "title_summary    6\n",
       "dtype: int64"
      ]
     },
     "execution_count": 145,
     "metadata": {},
     "output_type": "execute_result"
    }
   ],
   "source": [
    "news.isnull().sum()\n",
    "newses.isnull().sum()\n",
    "df.isnull().sum()"
   ]
  },
  {
   "cell_type": "markdown",
   "metadata": {},
   "source": [
    "<h2> 1st half </h2>"
   ]
  },
  {
   "cell_type": "code",
   "execution_count": 146,
   "metadata": {},
   "outputs": [],
   "source": [
    "news['text'] = news['text'].apply(lambda x:x.split())\n",
    "news['summary'] = news['summary'].apply(lambda x:x.split())\n",
    "news['title_summary'] = news['title_summary'].apply(lambda x:x.split())\n",
    "news['title_copy'] = news['title_copy'].apply(lambda x:x.split())\n",
    "# news.sample(5)"
   ]
  },
  {
   "cell_type": "code",
   "execution_count": 147,
   "metadata": {},
   "outputs": [],
   "source": [
    "\n",
    "news['text']=news['text'].apply(lambda x: [i.replace( \" \",\"\") for i in x])\n",
    "news['title_copy']=news['title_copy'].apply(lambda x: [i.replace( \" \",\"\") for i in x])\n",
    "news['summary']=news['summary'].apply(lambda x: [i.replace( \" \",\"\") for i in x])\n",
    "# news['keywords']=news['keywords'].apply(lambda x: [i.replace( \" \",\"\") for i in x])\n",
    "news['title_summary']=news['title_summary'].apply(lambda x: [i.replace( \" \",\"\") for i in x])"
   ]
  },
  {
   "cell_type": "code",
   "execution_count": 148,
   "metadata": {},
   "outputs": [
    {
     "data": {
      "text/html": [
       "<div>\n",
       "<style scoped>\n",
       "    .dataframe tbody tr th:only-of-type {\n",
       "        vertical-align: middle;\n",
       "    }\n",
       "\n",
       "    .dataframe tbody tr th {\n",
       "        vertical-align: top;\n",
       "    }\n",
       "\n",
       "    .dataframe thead th {\n",
       "        text-align: right;\n",
       "    }\n",
       "</style>\n",
       "<table border=\"1\" class=\"dataframe\">\n",
       "  <thead>\n",
       "    <tr style=\"text-align: right;\">\n",
       "      <th></th>\n",
       "      <th>text</th>\n",
       "      <th>title</th>\n",
       "      <th>summary</th>\n",
       "      <th>title_summary</th>\n",
       "      <th>title_copy</th>\n",
       "    </tr>\n",
       "  </thead>\n",
       "  <tbody>\n",
       "    <tr>\n",
       "      <th>0</th>\n",
       "      <td>[Vodafone, Idea,, one, of, the, largest, telec...</td>\n",
       "      <td>Indian telecom giant Vodafone Idea rebrands as...</td>\n",
       "      <td>[Vodafone, Idea,, one, of, the, largest, telec...</td>\n",
       "      <td>[Indian, telecom, giant, Vodafone, Idea, rebra...</td>\n",
       "      <td>[Indian, telecom, giant, Vodafone, Idea, rebra...</td>\n",
       "    </tr>\n",
       "    <tr>\n",
       "      <th>1</th>\n",
       "      <td>[At, the, beginning, of, the, previous, decade...</td>\n",
       "      <td>Facebook addresses political controversy in In...</td>\n",
       "      <td>[Politicians, in, the, country, today, heavily...</td>\n",
       "      <td>[Facebook, addresses, political, controversy, ...</td>\n",
       "      <td>[Facebook, addresses, political, controversy, ...</td>\n",
       "    </tr>\n",
       "    <tr>\n",
       "      <th>2</th>\n",
       "      <td>[As, TikTok’s, fate, in, the, U.S., remains, m...</td>\n",
       "      <td>YouTube launches its TikTok rival, YouTube Sho...</td>\n",
       "      <td>[As, TikTok’s, fate, in, the, U.S., remains, m...</td>\n",
       "      <td>[YouTube, launches, its, TikTok, rival,, YouTu...</td>\n",
       "      <td>[YouTube, launches, its, TikTok, rival,, YouTu...</td>\n",
       "    </tr>\n",
       "    <tr>\n",
       "      <th>3</th>\n",
       "      <td>[Even, as, more, than, 150, million, people, a...</td>\n",
       "      <td>Groww, an investment app for millennials in In...</td>\n",
       "      <td>[YC, Continuity,, the, growth-stage, investmen...</td>\n",
       "      <td>[Groww,, an, investment, app, for, millennials...</td>\n",
       "      <td>[Groww,, an, investment, app, for, millennials...</td>\n",
       "    </tr>\n",
       "    <tr>\n",
       "      <th>4</th>\n",
       "      <td>[As, part, of, the, continuing, global, rollou...</td>\n",
       "      <td>LanzaTech is developing a small-scale waste bi...</td>\n",
       "      <td>[As, part, of, the, continuing, global, rollou...</td>\n",
       "      <td>[LanzaTech, is, developing, a, small-scale, wa...</td>\n",
       "      <td>[LanzaTech, is, developing, a, small-scale, wa...</td>\n",
       "    </tr>\n",
       "  </tbody>\n",
       "</table>\n",
       "</div>"
      ],
      "text/plain": [
       "                                                text  \\\n",
       "0  [Vodafone, Idea,, one, of, the, largest, telec...   \n",
       "1  [At, the, beginning, of, the, previous, decade...   \n",
       "2  [As, TikTok’s, fate, in, the, U.S., remains, m...   \n",
       "3  [Even, as, more, than, 150, million, people, a...   \n",
       "4  [As, part, of, the, continuing, global, rollou...   \n",
       "\n",
       "                                               title  \\\n",
       "0  Indian telecom giant Vodafone Idea rebrands as...   \n",
       "1  Facebook addresses political controversy in In...   \n",
       "2  YouTube launches its TikTok rival, YouTube Sho...   \n",
       "3  Groww, an investment app for millennials in In...   \n",
       "4  LanzaTech is developing a small-scale waste bi...   \n",
       "\n",
       "                                             summary  \\\n",
       "0  [Vodafone, Idea,, one, of, the, largest, telec...   \n",
       "1  [Politicians, in, the, country, today, heavily...   \n",
       "2  [As, TikTok’s, fate, in, the, U.S., remains, m...   \n",
       "3  [YC, Continuity,, the, growth-stage, investmen...   \n",
       "4  [As, part, of, the, continuing, global, rollou...   \n",
       "\n",
       "                                       title_summary  \\\n",
       "0  [Indian, telecom, giant, Vodafone, Idea, rebra...   \n",
       "1  [Facebook, addresses, political, controversy, ...   \n",
       "2  [YouTube, launches, its, TikTok, rival,, YouTu...   \n",
       "3  [Groww,, an, investment, app, for, millennials...   \n",
       "4  [LanzaTech, is, developing, a, small-scale, wa...   \n",
       "\n",
       "                                          title_copy  \n",
       "0  [Indian, telecom, giant, Vodafone, Idea, rebra...  \n",
       "1  [Facebook, addresses, political, controversy, ...  \n",
       "2  [YouTube, launches, its, TikTok, rival,, YouTu...  \n",
       "3  [Groww,, an, investment, app, for, millennials...  \n",
       "4  [LanzaTech, is, developing, a, small-scale, wa...  "
      ]
     },
     "execution_count": 148,
     "metadata": {},
     "output_type": "execute_result"
    }
   ],
   "source": [
    "news.head()"
   ]
  },
  {
   "cell_type": "code",
   "execution_count": 149,
   "metadata": {},
   "outputs": [],
   "source": [
    "news['tags'] = news['text'] + news['summary'] + news['title_summary'] + news['title_copy']"
   ]
  },
  {
   "cell_type": "code",
   "execution_count": 150,
   "metadata": {},
   "outputs": [
    {
     "data": {
      "text/html": [
       "<div>\n",
       "<style scoped>\n",
       "    .dataframe tbody tr th:only-of-type {\n",
       "        vertical-align: middle;\n",
       "    }\n",
       "\n",
       "    .dataframe tbody tr th {\n",
       "        vertical-align: top;\n",
       "    }\n",
       "\n",
       "    .dataframe thead th {\n",
       "        text-align: right;\n",
       "    }\n",
       "</style>\n",
       "<table border=\"1\" class=\"dataframe\">\n",
       "  <thead>\n",
       "    <tr style=\"text-align: right;\">\n",
       "      <th></th>\n",
       "      <th>title</th>\n",
       "      <th>tags</th>\n",
       "    </tr>\n",
       "  </thead>\n",
       "  <tbody>\n",
       "    <tr>\n",
       "      <th>0</th>\n",
       "      <td>Indian telecom giant Vodafone Idea rebrands as...</td>\n",
       "      <td>[Vodafone, Idea,, one, of, the, largest, telec...</td>\n",
       "    </tr>\n",
       "    <tr>\n",
       "      <th>1</th>\n",
       "      <td>Facebook addresses political controversy in In...</td>\n",
       "      <td>[At, the, beginning, of, the, previous, decade...</td>\n",
       "    </tr>\n",
       "    <tr>\n",
       "      <th>2</th>\n",
       "      <td>YouTube launches its TikTok rival, YouTube Sho...</td>\n",
       "      <td>[As, TikTok’s, fate, in, the, U.S., remains, m...</td>\n",
       "    </tr>\n",
       "    <tr>\n",
       "      <th>3</th>\n",
       "      <td>Groww, an investment app for millennials in In...</td>\n",
       "      <td>[Even, as, more, than, 150, million, people, a...</td>\n",
       "    </tr>\n",
       "    <tr>\n",
       "      <th>4</th>\n",
       "      <td>LanzaTech is developing a small-scale waste bi...</td>\n",
       "      <td>[As, part, of, the, continuing, global, rollou...</td>\n",
       "    </tr>\n",
       "  </tbody>\n",
       "</table>\n",
       "</div>"
      ],
      "text/plain": [
       "                                               title  \\\n",
       "0  Indian telecom giant Vodafone Idea rebrands as...   \n",
       "1  Facebook addresses political controversy in In...   \n",
       "2  YouTube launches its TikTok rival, YouTube Sho...   \n",
       "3  Groww, an investment app for millennials in In...   \n",
       "4  LanzaTech is developing a small-scale waste bi...   \n",
       "\n",
       "                                                tags  \n",
       "0  [Vodafone, Idea,, one, of, the, largest, telec...  \n",
       "1  [At, the, beginning, of, the, previous, decade...  \n",
       "2  [As, TikTok’s, fate, in, the, U.S., remains, m...  \n",
       "3  [Even, as, more, than, 150, million, people, a...  \n",
       "4  [As, part, of, the, continuing, global, rollou...  "
      ]
     },
     "execution_count": 150,
     "metadata": {},
     "output_type": "execute_result"
    }
   ],
   "source": [
    "new = news.drop(columns=['text','summary','title_summary', 'title_copy'])\n",
    "new.head()"
   ]
  },
  {
   "cell_type": "code",
   "execution_count": 151,
   "metadata": {},
   "outputs": [
    {
     "data": {
      "text/html": [
       "<div>\n",
       "<style scoped>\n",
       "    .dataframe tbody tr th:only-of-type {\n",
       "        vertical-align: middle;\n",
       "    }\n",
       "\n",
       "    .dataframe tbody tr th {\n",
       "        vertical-align: top;\n",
       "    }\n",
       "\n",
       "    .dataframe thead th {\n",
       "        text-align: right;\n",
       "    }\n",
       "</style>\n",
       "<table border=\"1\" class=\"dataframe\">\n",
       "  <thead>\n",
       "    <tr style=\"text-align: right;\">\n",
       "      <th></th>\n",
       "      <th>title</th>\n",
       "      <th>tags</th>\n",
       "    </tr>\n",
       "  </thead>\n",
       "  <tbody>\n",
       "    <tr>\n",
       "      <th>0</th>\n",
       "      <td>Indian telecom giant Vodafone Idea rebrands as...</td>\n",
       "      <td>Vodafone Idea, one of the largest telecom oper...</td>\n",
       "    </tr>\n",
       "    <tr>\n",
       "      <th>1</th>\n",
       "      <td>Facebook addresses political controversy in In...</td>\n",
       "      <td>At the beginning of the previous decade, Faceb...</td>\n",
       "    </tr>\n",
       "    <tr>\n",
       "      <th>2</th>\n",
       "      <td>YouTube launches its TikTok rival, YouTube Sho...</td>\n",
       "      <td>As TikTok’s fate in the U.S. remains murky, Yo...</td>\n",
       "    </tr>\n",
       "    <tr>\n",
       "      <th>3</th>\n",
       "      <td>Groww, an investment app for millennials in In...</td>\n",
       "      <td>Even as more than 150 million people are using...</td>\n",
       "    </tr>\n",
       "    <tr>\n",
       "      <th>4</th>\n",
       "      <td>LanzaTech is developing a small-scale waste bi...</td>\n",
       "      <td>As part of the continuing global rollout of La...</td>\n",
       "    </tr>\n",
       "  </tbody>\n",
       "</table>\n",
       "</div>"
      ],
      "text/plain": [
       "                                               title  \\\n",
       "0  Indian telecom giant Vodafone Idea rebrands as...   \n",
       "1  Facebook addresses political controversy in In...   \n",
       "2  YouTube launches its TikTok rival, YouTube Sho...   \n",
       "3  Groww, an investment app for millennials in In...   \n",
       "4  LanzaTech is developing a small-scale waste bi...   \n",
       "\n",
       "                                                tags  \n",
       "0  Vodafone Idea, one of the largest telecom oper...  \n",
       "1  At the beginning of the previous decade, Faceb...  \n",
       "2  As TikTok’s fate in the U.S. remains murky, Yo...  \n",
       "3  Even as more than 150 million people are using...  \n",
       "4  As part of the continuing global rollout of La...  "
      ]
     },
     "execution_count": 151,
     "metadata": {},
     "output_type": "execute_result"
    }
   ],
   "source": [
    "new['tags'] = new['tags'].apply(lambda x: \" \".join(x))\n",
    "new.head()"
   ]
  },
  {
   "cell_type": "code",
   "execution_count": 152,
   "metadata": {},
   "outputs": [],
   "source": [
    "import nltk # type: ignore\n",
    "from nltk.stem.porter import PorterStemmer # type: ignore\n",
    "ps = PorterStemmer()\n"
   ]
  },
  {
   "cell_type": "code",
   "execution_count": 153,
   "metadata": {},
   "outputs": [],
   "source": [
    "def stem(text):\n",
    "    y=[]\n",
    "    for i in text.split():\n",
    "        y.append(ps.stem(i))\n",
    "\n",
    "    return \" \".join(y)"
   ]
  },
  {
   "cell_type": "code",
   "execution_count": 154,
   "metadata": {},
   "outputs": [],
   "source": [
    "new['tags']=new['tags'].apply(stem)"
   ]
  },
  {
   "cell_type": "code",
   "execution_count": 155,
   "metadata": {},
   "outputs": [
    {
     "data": {
      "text/html": [
       "<div>\n",
       "<style scoped>\n",
       "    .dataframe tbody tr th:only-of-type {\n",
       "        vertical-align: middle;\n",
       "    }\n",
       "\n",
       "    .dataframe tbody tr th {\n",
       "        vertical-align: top;\n",
       "    }\n",
       "\n",
       "    .dataframe thead th {\n",
       "        text-align: right;\n",
       "    }\n",
       "</style>\n",
       "<table border=\"1\" class=\"dataframe\">\n",
       "  <thead>\n",
       "    <tr style=\"text-align: right;\">\n",
       "      <th></th>\n",
       "      <th>title</th>\n",
       "      <th>tags</th>\n",
       "    </tr>\n",
       "  </thead>\n",
       "  <tbody>\n",
       "    <tr>\n",
       "      <th>0</th>\n",
       "      <td>Indian telecom giant Vodafone Idea rebrands as...</td>\n",
       "      <td>vodafon idea, one of the largest telecom oper ...</td>\n",
       "    </tr>\n",
       "    <tr>\n",
       "      <th>1</th>\n",
       "      <td>Facebook addresses political controversy in In...</td>\n",
       "      <td>at the begin of the previou decade, facebook h...</td>\n",
       "    </tr>\n",
       "    <tr>\n",
       "      <th>2</th>\n",
       "      <td>YouTube launches its TikTok rival, YouTube Sho...</td>\n",
       "      <td>as tiktok’ fate in the u.s. remain murky, yout...</td>\n",
       "    </tr>\n",
       "    <tr>\n",
       "      <th>3</th>\n",
       "      <td>Groww, an investment app for millennials in In...</td>\n",
       "      <td>even as more than 150 million peopl are use di...</td>\n",
       "    </tr>\n",
       "    <tr>\n",
       "      <th>4</th>\n",
       "      <td>LanzaTech is developing a small-scale waste bi...</td>\n",
       "      <td>as part of the continu global rollout of lanza...</td>\n",
       "    </tr>\n",
       "  </tbody>\n",
       "</table>\n",
       "</div>"
      ],
      "text/plain": [
       "                                               title  \\\n",
       "0  Indian telecom giant Vodafone Idea rebrands as...   \n",
       "1  Facebook addresses political controversy in In...   \n",
       "2  YouTube launches its TikTok rival, YouTube Sho...   \n",
       "3  Groww, an investment app for millennials in In...   \n",
       "4  LanzaTech is developing a small-scale waste bi...   \n",
       "\n",
       "                                                tags  \n",
       "0  vodafon idea, one of the largest telecom oper ...  \n",
       "1  at the begin of the previou decade, facebook h...  \n",
       "2  as tiktok’ fate in the u.s. remain murky, yout...  \n",
       "3  even as more than 150 million peopl are use di...  \n",
       "4  as part of the continu global rollout of lanza...  "
      ]
     },
     "execution_count": 155,
     "metadata": {},
     "output_type": "execute_result"
    }
   ],
   "source": [
    "new.head()"
   ]
  },
  {
   "cell_type": "code",
   "execution_count": 156,
   "metadata": {},
   "outputs": [
    {
     "data": {
      "text/html": [
       "<div>\n",
       "<style scoped>\n",
       "    .dataframe tbody tr th:only-of-type {\n",
       "        vertical-align: middle;\n",
       "    }\n",
       "\n",
       "    .dataframe tbody tr th {\n",
       "        vertical-align: top;\n",
       "    }\n",
       "\n",
       "    .dataframe thead th {\n",
       "        text-align: right;\n",
       "    }\n",
       "</style>\n",
       "<table border=\"1\" class=\"dataframe\">\n",
       "  <thead>\n",
       "    <tr style=\"text-align: right;\">\n",
       "      <th></th>\n",
       "      <th>title</th>\n",
       "      <th>tags</th>\n",
       "    </tr>\n",
       "  </thead>\n",
       "  <tbody>\n",
       "    <tr>\n",
       "      <th>0</th>\n",
       "      <td>Indian telecom giant Vodafone Idea rebrands as...</td>\n",
       "      <td>vodafon idea, one of the largest telecom oper ...</td>\n",
       "    </tr>\n",
       "    <tr>\n",
       "      <th>1</th>\n",
       "      <td>Facebook addresses political controversy in In...</td>\n",
       "      <td>at the begin of the previou decade, facebook h...</td>\n",
       "    </tr>\n",
       "    <tr>\n",
       "      <th>2</th>\n",
       "      <td>YouTube launches its TikTok rival, YouTube Sho...</td>\n",
       "      <td>as tiktok’ fate in the u.s. remain murky, yout...</td>\n",
       "    </tr>\n",
       "  </tbody>\n",
       "</table>\n",
       "</div>"
      ],
      "text/plain": [
       "                                               title  \\\n",
       "0  Indian telecom giant Vodafone Idea rebrands as...   \n",
       "1  Facebook addresses political controversy in In...   \n",
       "2  YouTube launches its TikTok rival, YouTube Sho...   \n",
       "\n",
       "                                                tags  \n",
       "0  vodafon idea, one of the largest telecom oper ...  \n",
       "1  at the begin of the previou decade, facebook h...  \n",
       "2  as tiktok’ fate in the u.s. remain murky, yout...  "
      ]
     },
     "execution_count": 156,
     "metadata": {},
     "output_type": "execute_result"
    }
   ],
   "source": [
    "new['tags']=new['tags'].apply(lambda x:x.lower())\n",
    "new.head(3)"
   ]
  },
  {
   "cell_type": "code",
   "execution_count": 157,
   "metadata": {},
   "outputs": [],
   "source": [
    "from sklearn.feature_extraction.text import CountVectorizer # type: ignore\n",
    "cv = CountVectorizer(max_features=5000,stop_words='english')"
   ]
  },
  {
   "cell_type": "code",
   "execution_count": 158,
   "metadata": {},
   "outputs": [
    {
     "data": {
      "text/plain": [
       "(2184, 5000)"
      ]
     },
     "execution_count": 158,
     "metadata": {},
     "output_type": "execute_result"
    }
   ],
   "source": [
    "vector = cv.fit_transform(new['tags']).toarray()\n",
    "vector.shape"
   ]
  },
  {
   "cell_type": "code",
   "execution_count": 159,
   "metadata": {},
   "outputs": [
    {
     "data": {
      "text/plain": [
       "array([[1.        , 0.40272396, 0.12987128, ..., 0.09031587, 0.03585804,\n",
       "        0.06861115],\n",
       "       [0.40272396, 1.        , 0.15756916, ..., 0.14690053, 0.03161182,\n",
       "        0.0633336 ],\n",
       "       [0.12987128, 0.15756916, 1.        , ..., 0.03416847, 0.03614764,\n",
       "        0.04556394],\n",
       "       ...,\n",
       "       [0.09031587, 0.14690053, 0.03416847, ..., 1.        , 0.00756534,\n",
       "        0.07636947],\n",
       "       [0.03585804, 0.03161182, 0.03614764, ..., 0.00756534, 1.        ,\n",
       "        0.04806974],\n",
       "       [0.06861115, 0.0633336 , 0.04556394, ..., 0.07636947, 0.04806974,\n",
       "        1.        ]])"
      ]
     },
     "execution_count": 159,
     "metadata": {},
     "output_type": "execute_result"
    }
   ],
   "source": [
    "from sklearn.metrics.pairwise import cosine_similarity\n",
    "similarity = cosine_similarity(vector)\n",
    "similarity"
   ]
  },
  {
   "cell_type": "code",
   "execution_count": 160,
   "metadata": {},
   "outputs": [],
   "source": [
    "from fuzzywuzzy import process  "
   ]
  },
  {
   "cell_type": "code",
   "execution_count": 161,
   "metadata": {},
   "outputs": [],
   "source": [
    "def recommend(news_title):\n",
    "    # Find the closest matching title using fuzzy matching\n",
    "    match = process.extractOne(news_title, new['title'])\n",
    "    \n",
    "    # Handle case where no close match is found\n",
    "    if not match or match[1] < 20:  # Match confidence threshold (e.g., 50)\n",
    "        return [{\"error\": \"No close match found for the provided title. Please try another title.\"}]\n",
    "    \n",
    "    closest_title = match[0]\n",
    "    index_list = new[new['title'] == closest_title].index.tolist()\n",
    "    \n",
    "    # Ensure we found a valid index\n",
    "    if not index_list:\n",
    "        return [{\"error\": \"Unable to locate recommendations for the matched title. Please try again.\"}]\n",
    "    \n",
    "    index = index_list[0]\n",
    "    \n",
    "    # Compute similarities and sort\n",
    "    distances = sorted(list(enumerate(similarity[index])), key=lambda x: x[1], reverse=True)\n",
    "    \n",
    "    # Fetch top 5 recommendations\n",
    "    recommendations = []\n",
    "    for i in distances[:8]:\n",
    "        temp_df = newses[newses['Unnamed: 0.1'] == new.index[i[0]]]\n",
    "        \n",
    "        if temp_df.empty:\n",
    "            continue  # Skip if no data is found for the index\n",
    "        \n",
    "        rec = {\n",
    "            \"title\": temp_df['title'].values[0],\n",
    "            \"summary\": temp_df['summary'].values[0] if 'summary' in temp_df.columns else \"No summary available\",\n",
    "            \"date\": temp_df['date'].values[0] if 'date' in temp_df.columns else \"N/A\",\n",
    "            \"link\": temp_df['link'].values[0]\n",
    "        }\n",
    "        recommendations.append(rec)\n",
    "\n",
    "    # If recommendations list is empty\n",
    "    if not recommendations:\n",
    "        return [{\"error\": \"No recommendations could be generated for this title.\"}]\n",
    "    \n",
    "    return recommendations\n"
   ]
  },
  {
   "cell_type": "code",
   "execution_count": 162,
   "metadata": {},
   "outputs": [
    {
     "data": {
      "text/plain": [
       "[{'title': 'Silver Lake leads $500 million investment round in Indian online learning giant Byju’s – TechCrunch',\n",
       "  'summary': 'Byju’s has raised $500 million in a new financing round that values the Indian online learning platform at $10.8 billion, a source familiar with the matter told TechCrunch.\\r\\n“We are excited to welcome a strong partner like Silver Lake to the BYJU’S family,” said Byju Raveendran, co-founder and CEO of the eponymous startup in a statement.\\r\\nThis has brought online learning to the forefront and is helping parents, teachers and students experience and understand its value.\\r\\nToday, the app has over 64 million registered students and 4.2 million annual paid subscriptions.\\r\\nSilver Lake also invested about $1.35 billion in India’s Jio Platforms earlier this year.',\n",
       "  'date': '2020-09-07 00:00:00',\n",
       "  'link': 'http://techcrunch.com/2020/09/07/silver-lake-leads-500-million-round-in-indias-byjus/'},\n",
       " {'title': 'Indian decacorn Byju’s CEO talks about future acquisitions, coronavirus and international expansion – TechCrunch',\n",
       "  'summary': 'It took the startup about four and a half years to amass 40 million students.\\r\\nHis startup is valued at nearly $11 billion as of last week (which makes it India’s second most valuable startup), and has presence across several international markets.\\r\\nIt’s not everyday that we see an Indian startup with any of these three characteristics — let alone all three in one.\\r\\nTo make online learning more accessible to students, Byju’s made all of its offerings free during the pandemic.\\r\\nFor expansion in international markets, Raveendran said it plans to launch a digital learning app aimed at kids in several English-speaking markets.',\n",
       "  'date': '2020-09-15 00:00:00',\n",
       "  'link': 'http://techcrunch.com/2020/09/15/indian-decacorn-byjus-ceo-talks-about-future-acquisitions-coronavirus-and-international-expansion/'},\n",
       " {'title': 'Chan Zuckerberg Initiative backs Indian education startup Eruditus in $113 million fundraise – TechCrunch',\n",
       "  'summary': 'The Series D financing round for the 10-year-old startup was co-led by Leeds Illuminate and Prosus Ventures.\\r\\nChan Zuckerberg Initiative and existing investors Sequoia India and Ved Capital also participated in the round, which brings Eruditus’ to-date raise to more than $160 million.\\r\\nEruditus is now valued at over $700 million, a person familiar with the matter said.\\r\\nThe universities and Eruditus work to develop courses that are aimed at offering higher education to students.\\r\\nEruditus is the second startup that Chan Zuckerberg Initiative has backed in India.',\n",
       "  'date': '2020-08-31 00:00:00',\n",
       "  'link': 'http://techcrunch.com/2020/08/31/chan-zuckerberg-initiative-backs-indian-education-startup-eruditus-in-113-million-fundraise/'},\n",
       " {'title': 'German finance watchdog says worst of coronavirus crisis to come',\n",
       "  'summary': 'FILE PHOTO: The logo of Deutsche Bank is pictured on a company\\'s office in London, Britain July 8, 2019.\\r\\nREUTERS/Simon DawsonFRANKFURT (Reuters) - Germany’s financial regulator expects the worst of the coronavirus crisis is still to come, although there was no immediate threat to financial stability from the pandemic.\\r\\nThe hard part is still to come,” Hufeld said on Wednesday at a banking conference at which he and other panelists were separated on stage by plastic screens.\\r\\nEarlier, Deutsche Bank DBKGn.DE Chief Executive Christian Sewing forecast that the economy would not return to normal this year or next, and that many sectors will be running at 70%-90% capacity, with \"serious consequences\".\\r\\n“Many companies will have to adjust to this and manage to be profitable with longer-term lower revenues,” Sewing said.',\n",
       "  'date': '2020-09-02 07:56:30+00:00',\n",
       "  'link': 'https://uk.reuters.com/article/us-germany-banks-idUKKBN25T130'},\n",
       " {'title': 'India’s Zomato raises $62 million from Temasek – TechCrunch',\n",
       "  'summary': 'Indian food delivery startup Zomato has raised $62 million from Temasek, resuming a financing round that it originally expected to close in January this year.\\r\\nZomato kickstarted its new financing round about a year ago, a person familiar with the matter told TechCrunch.\\r\\nIn its IPO prospectus late last month, Ant Group cited a regulatory change in India as the reason for it not being able to invest in Zomato.\\r\\nReuters reported last month that Alibaba Group and its affiliates, including Ant Group, will not invest in Indian startups for at least six months.\\r\\nIn the same month, Zomato acquired the Indian food delivery business of Uber.',\n",
       "  'date': '2020-09-02 00:00:00',\n",
       "  'link': 'http://techcrunch.com/2020/09/02/indias-zomato-raises-62-million-from-temasek/'},\n",
       " {'title': 'India’s logistics SaaS startup FarEye bags $13 million – TechCrunch',\n",
       "  'summary': 'That startup, Noida-based FarEye, said today it has raised an additional $13 million to close its Series D financing round at $37.5 million.\\r\\nThe startup said today industry veterans Nandan Nilekani and Sanjeev Aggarwal’s Fundamentum Partnership led the extended round, with participation from KB Global Platform Fund.\\r\\nFarEye helps companies orchestrate, track and optimize their logistics operations.\\r\\nThe startup, which already has clients in the U.S., Europe and Singapore, plans to further its growth outside of India.\\r\\nFarEye has captured the pulse of this industry and has all the ingredients to head towards global leadership.',\n",
       "  'date': '2020-08-21 00:00:00',\n",
       "  'link': 'http://techcrunch.com/2020/08/21/indian-logistics-saas-startup-fareye-bags-13-million/'}]"
      ]
     },
     "execution_count": 162,
     "metadata": {},
     "output_type": "execute_result"
    }
   ],
   "source": [
    "recommend('Silver Lake round in Indian online learning giant Byju’s – TechCrunch')"
   ]
  },
  {
   "cell_type": "code",
   "execution_count": 163,
   "metadata": {},
   "outputs": [
    {
     "data": {
      "text/plain": [
       "[{'title': 'It’s (still) time to end ‘Trending’ on Twitter',\n",
       "  'summary': 'One reason why is that enough people tweet the same hashtag on Twitter, it almost always shows up on the app’s tab of “trending topics,” no matter how deranged.\\r\\nTo me, the incident offered reasons to bring an end to trending topics altogether.\\r\\nBut I don’t think that would go far enough here: Twitter trends are still fundamentally broken, and I’d still rather see them shut off for good.\\r\\nIt will continue to be easy to make it into the trending module: Twitter still requires no approval from a human curator for a topic to trend.\\r\\nReading through the list of conspiracy topics that have surfaced in Twitter trends over the past year, it’s hard to imagine how the changes announced on Tuesday will much improve the product.',\n",
       "  'date': '2020-09-02 00:00:00',\n",
       "  'link': 'https://www.theverge.com/interface/2020/9/2/21413001/twitter-trends-labels-representative-tweets-conspiracies-misinformation'},\n",
       " {'title': 'Twitter to start explaining why its trending section is such a nightmare',\n",
       "  'summary': 'Twitter knows its trending section is a confusing mess.\\r\\nStarting today, for some trends, the company will include what it deems to be a representative tweet at the top of a trending page.\\r\\nIn the near future, Twitter will also add \"brief descriptions\" to some trending pages.\\r\\n\"it takes me too long to find out why something is trending,\" she wrote in August of last year.\\r\\n\"twitter should first tell you why something is trending, at the top, rather than 8 million people continuing to make it trend by asking why it\\'s trending I dunno\"it takes me too long to find out why something is trending.',\n",
       "  'date': '2020-09-01 17:30:00+00:00',\n",
       "  'link': 'https://mashable.com/article/twitter-feature-to-answer-why-is-this-trending/'},\n",
       " {'title': 'How Facebook’s new election rules sidestep the real problem',\n",
       "  'summary': 'They came not from the corporate blog but from CEO Mark Zuckerberg himself, in a Facebook post.\\r\\nMisinformation in political advertising can continue right up until Election Day, so long as it has been running for at least a week.\\r\\nThe basic idea here is to allow for a maximum of political speech, and to answer the most problematic speech with more speech, in the form of labels.\\r\\nThe platforms have offered no positive conception of what political speech should be or do there.\\r\\nThe idea rests upon a foundational belief that both parties are good-faith actors when it comes to political speech, all available evidence to the contrary.',\n",
       "  'date': '2020-09-04 00:00:00',\n",
       "  'link': 'https://www.theverge.com/interface/2020/9/4/21420096/facebook-election-ad-limits-labels-limits-view-from-nowhere-jay-rosen'},\n",
       " {'title': 'How Facebook’s new election rules sidestep the real problem',\n",
       "  'summary': 'They came not from the corporate blog but from CEO Mark Zuckerberg himself, in a Facebook post.\\r\\nMisinformation in political advertising can continue right up until Election Day, so long as it has been running for at least a week.\\r\\nThe basic idea here is to allow for a maximum of political speech, and to answer the most problematic speech with more speech, in the form of labels.\\r\\nThe platforms have offered no positive conception of what political speech should be or do there.\\r\\nThe idea rests upon a foundational belief that both parties are good-faith actors when it comes to political speech, all available evidence to the contrary.',\n",
       "  'date': '2020-09-04 00:00:00',\n",
       "  'link': 'https://www.theverge.com/interface/2020/9/4/21420096/facebook-election-ad-limits-labels-limits-view-from-nowhere-jay-rosen'},\n",
       " {'title': 'Can carbon capture save the world from climate change? Jennifer Holmgren will tell us at Disrupt – TechCrunch',\n",
       "  'summary': 'Can carbon capture save the world from climate change?\\r\\nThat division of Honeywell, the $115 billion industrial conglomerate, was responsible for developing most of the early alternative fuels for the aviation industry and reflects Holmgren’s longtime interest in making existing chemicals and fuels more sustainable.\\r\\nThe suffering caused by the global COVID-19 pandemic has sent the global economy into a tailspin and has reshaped vast swaths of the global economy, and the oil industry is no different.\\r\\nSo where does this leave the energy industry and alternative sources of fuels that are based on carbon capture technologies?\\r\\nWith nothing less than the future of the energy industry on the table, the discussion with Holmgren is sure to be interesting.',\n",
       "  'date': '2020-09-09 00:00:00',\n",
       "  'link': 'http://techcrunch.com/2020/09/09/can-carbon-capture-save-the-world-from-climate-change-jennifer-holmgren-will-tell-us-at-disrupt/'},\n",
       " {'title': 'Facebook’s big QAnon crackdown might have come too late',\n",
       "  'summary': 'The “Tide Pods challenge” surged on social networks in 2018, and ultimately more than 10,000 children were reported to have been exposed to whatever extremely inedible substance is actually inside Tide Pods.\\r\\nWhen does a lunatic conspiracy theory cross the line from a shitpost into a potential incitement to violence?\\r\\nBoth moves fell short of a full ban on discussing QAnon, though Facebook’s move to prevent QAnon groups from being recommended to users could cut off a key avenue for recruitment of new adherents.\\r\\nIt’s easier to maintain the ironic detachment that defined our early reactions to the Tide Pods challenge — no one actually believes this stuff, right?\\r\\nAs with Tide Pods, it seems likely that we’ll all look back and wish the company had taken Q seriously sooner.',\n",
       "  'date': '2020-08-20 00:00:00',\n",
       "  'link': 'https://www.theverge.com/interface/2020/8/20/21375381/facebook-qanon-purge-content-policy-tide-pods'},\n",
       " {'title': 'What Facebook should do about its Kenosha problem',\n",
       "  'summary': 'The afternoon before the murders, a 3,000-member Facebook group calling themselves the Kenosha Guard had advertised an event on Facebook encouraging an armed response to the unrest.\\r\\nMy colleague Russell Brandom broke the news at The Verge:In a post Tuesday afternoon, the Kenosha Guard Facebook group encouraged an armed response to the ongoing unrest.\\r\\nWhich is to say: his Facebook account did not follow the Kenosha Guard page, and he had not been “invited” to the event.\\r\\nThe best way to understand the controversy around the Kenosha Guard page is that Facebook broke this implicit bargain.\\r\\nThe Kenosha Guard page wasn’t getting a lot of either, at least not in Facebook terms, I’m told.',\n",
       "  'date': '2020-09-01 00:00:00',\n",
       "  'link': 'https://www.theverge.com/interface/2020/9/1/21408650/facebook-kenosha-guard-policy-moderation-public-report'}]"
      ]
     },
     "execution_count": 163,
     "metadata": {},
     "output_type": "execute_result"
    }
   ],
   "source": [
    "recommend('Uber launches car rentals in the UK for maximum distancing')"
   ]
  },
  {
   "cell_type": "code",
   "execution_count": 164,
   "metadata": {},
   "outputs": [
    {
     "data": {
      "text/plain": [
       "[{'title': 'Golf: Daly diagnosed with bladder cancer',\n",
       "  'summary': 'FILE PHOTO: May 16, 2019; Bethpage, NY, USA; John Daly gets out of his cart on the third green during the first round of the PGA Championship golf tournament at Bethpage State Park - Black Course.\\r\\nMandatory Credit: Brad Penner-USA TODAY Sports(Reuters) - Two-time major winner John Daly said on Thursday he has been diagnosed with bladder cancer and that while it was caught early he may need further surgery if it returns.\\r\\nThe 54-year-old American told Golf Channel the cancer was discovered during an appointment related to kidney stones.\\r\\nBut unfortunately, you have bladder cancer,” Daly said.\\r\\n“Luckily for me they caught it early, but bladder cancer is something that I don’t know all the details,” he said.',\n",
       "  'date': '2020-09-11 07:44:19+00:00',\n",
       "  'link': 'https://in.reuters.com/article/golf-daly-idINKBN2620W8'},\n",
       " {'title': 'Power sector transformation will get world one third of way to net zero - IEA',\n",
       "  'summary': 'LONDON (Reuters) - The transformation of the power sector will only get the world one third of the way to a goal of achieving net zero emissions by mid-century, a report by the International Energy Agency (IEA) said on Thursday.\\r\\nFILE PHOTO: Sun shines through steam rising from chimneys of a power plant in Moscow, Russia November 13, 2019.\\r\\nThe report analysed more than 800 technology options to examine what would need to happen for the world to reach net-zero emissions by 2050.\\r\\nA large amount of additional power generation is needed for low-carbon hydrogen, which is increasingly being viewed as a way for industries such as steel to decarbonise.\\r\\nTo produce enough hydrogen to reach net zero emissions, the electrolysers would consume twice the amount of electricity which China generates, the IEA said.',\n",
       "  'date': '2020-09-10 04:22:49+00:00',\n",
       "  'link': 'https://in.reuters.com/article/iea-renewables-idINKBN2610HM'},\n",
       " {'title': 'MEDIA-Indian economy may have shrunk 14-26% in Q1 - Economic Times poll',\n",
       "  'summary': '-- Source link: (bit.ly/3iRgabP)-- Note: Reuters has not verified this story and does not vouch for its accuracy (Bengaluru newsroom)',\n",
       "  'date': '2020-08-18 03:20:23+00:00',\n",
       "  'link': 'https://in.reuters.com/article/media-indian-economy-may-have-shrunk-14-idINL4N2FK0X0'},\n",
       " {'title': 'Italy economy weathering coronavirus better than expected - minister',\n",
       "  'summary': 'ROME, Aug 21 (Reuters) - Economy Minister Roberto Gualtieri said on Friday that Italy’s economy has held up better than expected in the face of the coronavirus and the third quarter would show “a very strong rebound” in growth.\\r\\nIn the second quarter Italian gross domestic product shrank by 12.4% from the previous three months, national statistics bureau ISTAT reported last month, the steepest drop on record but less severe than forecast.\\r\\nSpeaking by video-link at a conference in Rimini, Gualtieri said recent Italian data had been consistently better than consensus forecasts, and he believed the conditions were in place for “positive surprises.”He said it now looked as though Italy could end the year with GDP “not far from our original forecast,” an apparent reference to the government’s most recent official projection of an 8% GDP drop.\\r\\nThat is a smaller contraction than forecast by the Bank of Italy and international institutions, and Gualtieri had recently said that it would probably have to be revised down.\\r\\n(Reporting By Gavin Jones; editing by Angelo Amante)',\n",
       "  'date': '2020-08-21 13:50:41+00:00',\n",
       "  'link': 'https://www.reuters.com/article/italy-economy-gualtieri-idUSR1N2C902A'},\n",
       " {'title': 'The Line Dance of the Pandemic',\n",
       "  'summary': 'The Farmers’ MarketSanta Fe, N.M.“Right when Covid hit here, we had to make many changes,” said Debbie Burns, the chief executive officer of the Santa Fe Farmers’ Market on the last Saturday in August.\\r\\n“It’s like, if you have a line, you have a line.\\r\\nLeaving the farmers’ market, one might have noticed another line, outside the nearby REI that had, by midmorning, reached its new maximum capacity.\\r\\n“This is a lot cooler than where I live.” KELLEN BROWNINGThe Secondhand HavenNew YorkOn a swampy August afternoon, Arpana Rayamajhi stood gamely in line outside Beacon’s Closet on West 13th Street.\\r\\n“With this pandemic and everything that’s happening, I wait in line just to feel some type of normal,” Mr. Latimer said.',\n",
       "  'date': '2020-09-10 00:00:00',\n",
       "  'link': 'https://www.nytimes.com/2020/09/10/style/line-waiting-pandemic-shopping.html'},\n",
       " {'title': 'The Impeachment Battle Rematch That Wasn’t',\n",
       "  'summary': 'Likewise, the Republican roster of speakers this week includes few of the impeachment figures.\\r\\n“He’s taken on the swamp, all of the swamp, the Democrats, the press and the Never Trumpers,” Mr. Jordan said in his speech on Monday night.\\r\\n“And when you take on the swamp, the swamp fights back.\\r\\nThey tried the Russia hoax, the Mueller investigation and the fake impeachment.\\r\\n“But I also think so many Americans saw it for what it was, particularly independent-leaning Americans and Republicans.',\n",
       "  'date': '2020-08-25 00:00:00',\n",
       "  'link': 'https://www.nytimes.com/2020/08/25/us/politics/trump-impeachment-convention.html'},\n",
       " {'title': 'Kim Jong Un delegates some powers to sister Kim Yo Jong, South Korean intelligence says',\n",
       "  'summary': 'Seoul, South Korea (CNN) Kim Jong Un has reportedly given his sister, Kim Yo Jong, partial authority to oversee \"general state affairs\" in order to ease the North Korean leader\\'s workload, according to South Korean intelligence.\\r\\nKim Yo Jong was not the only one given an increased portfolio, the NIS said.\\r\\nIt\\'s trying to clean up parts of the country after deadly flooding while also keeping the coronavirus pandemic at bay .\\r\\nNorth Korean state-run news agency KCNA admitted as much Thursday, when it reported that Kim would convene a senior meeting with the country\\'s top leaders.\\r\\nThe piece blamed the stagnant economic situation on \"severe internal and external situations and unexpected manifold challenges.\"',\n",
       "  'date': '2020-08-21 00:00:00',\n",
       "  'link': 'https://www.cnn.com/2020/08/21/asia/north-korea-kim-yo-jong-intl-hnk/index.html'}]"
      ]
     },
     "execution_count": 164,
     "metadata": {},
     "output_type": "execute_result"
    }
   ],
   "source": [
    "recommend('Top Photos of the Day')"
   ]
  },
  {
   "cell_type": "code",
   "execution_count": 165,
   "metadata": {},
   "outputs": [],
   "source": [
    "import pickle"
   ]
  },
  {
   "cell_type": "code",
   "execution_count": 166,
   "metadata": {},
   "outputs": [],
   "source": [
    "pickle.dump(newses,open('news.pkl','wb'))"
   ]
  },
  {
   "cell_type": "code",
   "execution_count": 167,
   "metadata": {},
   "outputs": [],
   "source": [
    "pickle.dump(newses,open('newses.pkl','wb'))\n",
    "pickle.dump(new,open('new.pkl','wb'))\n",
    "pickle.dump(similarity,open('similarity.pkl','wb'))"
   ]
  },
  {
   "cell_type": "markdown",
   "metadata": {},
   "source": [
    "<h1>END</h1>"
   ]
  }
 ],
 "metadata": {
  "kernelspec": {
   "display_name": "Python 3",
   "language": "python",
   "name": "python3"
  },
  "language_info": {
   "codemirror_mode": {
    "name": "ipython",
    "version": 3
   },
   "file_extension": ".py",
   "mimetype": "text/x-python",
   "name": "python",
   "nbconvert_exporter": "python",
   "pygments_lexer": "ipython3",
   "version": "3.12.6"
  }
 },
 "nbformat": 4,
 "nbformat_minor": 4
}
