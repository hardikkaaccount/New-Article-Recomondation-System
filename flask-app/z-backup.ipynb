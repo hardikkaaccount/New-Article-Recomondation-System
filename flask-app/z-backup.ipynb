{
 "cells": [
  {
   "cell_type": "code",
   "execution_count": 2,
   "metadata": {
    "_cell_guid": "b1076dfc-b9ad-4769-8c92-a6c4dae69d19",
    "_uuid": "8f2839f25d086af736a60e9eeb907d3b93b6e0e5"
   },
   "outputs": [],
   "source": [
    "\n",
    "import numpy as np # linear algebra\n",
    "import pandas as pd # data processing, CSV file I/O (e.g. pd.read_csv)\n",
    "\n",
    "\n",
    "import os\n",
    "for dirname, _, filenames in os.walk('/kaggle/input'):\n",
    "    for filename in filenames:\n",
    "        print(os.path.join(dirname, filename))\n"
   ]
  },
  {
   "cell_type": "code",
   "execution_count": 3,
   "metadata": {},
   "outputs": [
    {
     "data": {
      "text/html": [
       "<div>\n",
       "<style scoped>\n",
       "    .dataframe tbody tr th:only-of-type {\n",
       "        vertical-align: middle;\n",
       "    }\n",
       "\n",
       "    .dataframe tbody tr th {\n",
       "        vertical-align: top;\n",
       "    }\n",
       "\n",
       "    .dataframe thead th {\n",
       "        text-align: right;\n",
       "    }\n",
       "</style>\n",
       "<table border=\"1\" class=\"dataframe\">\n",
       "  <thead>\n",
       "    <tr style=\"text-align: right;\">\n",
       "      <th></th>\n",
       "      <th>Unnamed: 0.1</th>\n",
       "      <th>Unnamed: 0</th>\n",
       "      <th>link</th>\n",
       "      <th>text</th>\n",
       "      <th>title</th>\n",
       "      <th>date</th>\n",
       "      <th>keywords</th>\n",
       "      <th>summary</th>\n",
       "      <th>title_summary</th>\n",
       "    </tr>\n",
       "  </thead>\n",
       "  <tbody>\n",
       "    <tr>\n",
       "      <th>0</th>\n",
       "      <td>0</td>\n",
       "      <td>0</td>\n",
       "      <td>http://techcrunch.com/2020/09/07/vodafone-idea...</td>\n",
       "      <td>Vodafone Idea, one of the largest telecom oper...</td>\n",
       "      <td>Indian telecom giant Vodafone Idea rebrands as...</td>\n",
       "      <td>2020-09-07 00:00:00</td>\n",
       "      <td>['rebrands', 'idea', 'vi', 'giant', 'brand', '...</td>\n",
       "      <td>Vodafone Idea, one of the largest telecom oper...</td>\n",
       "      <td>Indian telecom giant Vodafone Idea rebrands as...</td>\n",
       "    </tr>\n",
       "  </tbody>\n",
       "</table>\n",
       "</div>"
      ],
      "text/plain": [
       "   Unnamed: 0.1  Unnamed: 0  \\\n",
       "0             0           0   \n",
       "\n",
       "                                                link  \\\n",
       "0  http://techcrunch.com/2020/09/07/vodafone-idea...   \n",
       "\n",
       "                                                text  \\\n",
       "0  Vodafone Idea, one of the largest telecom oper...   \n",
       "\n",
       "                                               title                 date  \\\n",
       "0  Indian telecom giant Vodafone Idea rebrands as...  2020-09-07 00:00:00   \n",
       "\n",
       "                                            keywords  \\\n",
       "0  ['rebrands', 'idea', 'vi', 'giant', 'brand', '...   \n",
       "\n",
       "                                             summary  \\\n",
       "0  Vodafone Idea, one of the largest telecom oper...   \n",
       "\n",
       "                                       title_summary  \n",
       "0  Indian telecom giant Vodafone Idea rebrands as...  "
      ]
     },
     "execution_count": 3,
     "metadata": {},
     "output_type": "execute_result"
    }
   ],
   "source": [
    "news = pd.read_csv('result_final.csv')\n",
    "df = pd.read_csv('result_final.csv')\n",
    "newses = pd.read_csv('result_final.csv')\n",
    "newses.head(1)\n"
   ]
  },
  {
   "cell_type": "code",
   "execution_count": 4,
   "metadata": {},
   "outputs": [],
   "source": [
    "def databaseU():\n",
    "    L = []\n",
    "    for i in range(0, 2190):\n",
    "        L.append(str(news['title'][i]))\n",
    "\n",
    "    return L"
   ]
  },
  {
   "cell_type": "code",
   "execution_count": 5,
   "metadata": {},
   "outputs": [],
   "source": [
    "List1 = databaseU()"
   ]
  },
  {
   "cell_type": "code",
   "execution_count": 6,
   "metadata": {},
   "outputs": [],
   "source": [
    "news = news[['text','title','keywords','summary','title_summary']]"
   ]
  },
  {
   "cell_type": "code",
   "execution_count": 7,
   "metadata": {
    "scrolled": true
   },
   "outputs": [
    {
     "data": {
      "text/html": [
       "<div>\n",
       "<style scoped>\n",
       "    .dataframe tbody tr th:only-of-type {\n",
       "        vertical-align: middle;\n",
       "    }\n",
       "\n",
       "    .dataframe tbody tr th {\n",
       "        vertical-align: top;\n",
       "    }\n",
       "\n",
       "    .dataframe thead th {\n",
       "        text-align: right;\n",
       "    }\n",
       "</style>\n",
       "<table border=\"1\" class=\"dataframe\">\n",
       "  <thead>\n",
       "    <tr style=\"text-align: right;\">\n",
       "      <th></th>\n",
       "      <th>text</th>\n",
       "      <th>title</th>\n",
       "      <th>summary</th>\n",
       "      <th>title_summary</th>\n",
       "      <th>title_copy</th>\n",
       "    </tr>\n",
       "  </thead>\n",
       "  <tbody>\n",
       "    <tr>\n",
       "      <th>0</th>\n",
       "      <td>Vodafone Idea, one of the largest telecom oper...</td>\n",
       "      <td>Indian telecom giant Vodafone Idea rebrands as...</td>\n",
       "      <td>Vodafone Idea, one of the largest telecom oper...</td>\n",
       "      <td>Indian telecom giant Vodafone Idea rebrands as...</td>\n",
       "      <td>Indian telecom giant Vodafone Idea rebrands as...</td>\n",
       "    </tr>\n",
       "    <tr>\n",
       "      <th>1</th>\n",
       "      <td>At the beginning of the previous decade, Faceb...</td>\n",
       "      <td>Facebook addresses political controversy in In...</td>\n",
       "      <td>Politicians in the country today heavily rely ...</td>\n",
       "      <td>Facebook addresses political controversy in In...</td>\n",
       "      <td>Facebook addresses political controversy in In...</td>\n",
       "    </tr>\n",
       "  </tbody>\n",
       "</table>\n",
       "</div>"
      ],
      "text/plain": [
       "                                                text  \\\n",
       "0  Vodafone Idea, one of the largest telecom oper...   \n",
       "1  At the beginning of the previous decade, Faceb...   \n",
       "\n",
       "                                               title  \\\n",
       "0  Indian telecom giant Vodafone Idea rebrands as...   \n",
       "1  Facebook addresses political controversy in In...   \n",
       "\n",
       "                                             summary  \\\n",
       "0  Vodafone Idea, one of the largest telecom oper...   \n",
       "1  Politicians in the country today heavily rely ...   \n",
       "\n",
       "                                       title_summary  \\\n",
       "0  Indian telecom giant Vodafone Idea rebrands as...   \n",
       "1  Facebook addresses political controversy in In...   \n",
       "\n",
       "                                          title_copy  \n",
       "0  Indian telecom giant Vodafone Idea rebrands as...  \n",
       "1  Facebook addresses political controversy in In...  "
      ]
     },
     "execution_count": 7,
     "metadata": {},
     "output_type": "execute_result"
    }
   ],
   "source": [
    "news['title_copy'] = news['title'].copy()\n",
    "news = news.drop(columns=['keywords'])\n",
    "news.head(2)"
   ]
  },
  {
   "cell_type": "code",
   "execution_count": 8,
   "metadata": {},
   "outputs": [
    {
     "data": {
      "text/plain": [
       "text             6\n",
       "title            3\n",
       "summary          6\n",
       "title_summary    6\n",
       "title_copy       3\n",
       "dtype: int64"
      ]
     },
     "execution_count": 8,
     "metadata": {},
     "output_type": "execute_result"
    }
   ],
   "source": [
    "news.isnull().sum()"
   ]
  },
  {
   "cell_type": "code",
   "execution_count": 9,
   "metadata": {},
   "outputs": [],
   "source": [
    "news.dropna(inplace=True)"
   ]
  },
  {
   "cell_type": "code",
   "execution_count": 10,
   "metadata": {},
   "outputs": [
    {
     "data": {
      "text/plain": [
       "text             0\n",
       "title            0\n",
       "summary          0\n",
       "title_summary    0\n",
       "title_copy       0\n",
       "dtype: int64"
      ]
     },
     "execution_count": 10,
     "metadata": {},
     "output_type": "execute_result"
    }
   ],
   "source": [
    "news.isnull().sum()"
   ]
  },
  {
   "cell_type": "markdown",
   "metadata": {},
   "source": [
    "<h2> 1st half </h2>"
   ]
  },
  {
   "cell_type": "code",
   "execution_count": 11,
   "metadata": {},
   "outputs": [],
   "source": [
    "news['text'] = news['text'].apply(lambda x:x.split())\n",
    "news['summary'] = news['summary'].apply(lambda x:x.split())\n",
    "news['title_summary'] = news['title_summary'].apply(lambda x:x.split())\n",
    "news['title_copy'] = news['title_copy'].apply(lambda x:x.split())\n",
    "# news.sample(5)"
   ]
  },
  {
   "cell_type": "code",
   "execution_count": 12,
   "metadata": {},
   "outputs": [],
   "source": [
    "\n",
    "news['text']=news['text'].apply(lambda x: [i.replace( \" \",\"\") for i in x])\n",
    "news['title_copy']=news['title_copy'].apply(lambda x: [i.replace( \" \",\"\") for i in x])\n",
    "news['summary']=news['summary'].apply(lambda x: [i.replace( \" \",\"\") for i in x])\n",
    "# news['keywords']=news['keywords'].apply(lambda x: [i.replace( \" \",\"\") for i in x])\n",
    "news['title_summary']=news['title_summary'].apply(lambda x: [i.replace( \" \",\"\") for i in x])"
   ]
  },
  {
   "cell_type": "code",
   "execution_count": 13,
   "metadata": {},
   "outputs": [
    {
     "data": {
      "text/html": [
       "<div>\n",
       "<style scoped>\n",
       "    .dataframe tbody tr th:only-of-type {\n",
       "        vertical-align: middle;\n",
       "    }\n",
       "\n",
       "    .dataframe tbody tr th {\n",
       "        vertical-align: top;\n",
       "    }\n",
       "\n",
       "    .dataframe thead th {\n",
       "        text-align: right;\n",
       "    }\n",
       "</style>\n",
       "<table border=\"1\" class=\"dataframe\">\n",
       "  <thead>\n",
       "    <tr style=\"text-align: right;\">\n",
       "      <th></th>\n",
       "      <th>text</th>\n",
       "      <th>title</th>\n",
       "      <th>summary</th>\n",
       "      <th>title_summary</th>\n",
       "      <th>title_copy</th>\n",
       "    </tr>\n",
       "  </thead>\n",
       "  <tbody>\n",
       "    <tr>\n",
       "      <th>0</th>\n",
       "      <td>[Vodafone, Idea,, one, of, the, largest, telec...</td>\n",
       "      <td>Indian telecom giant Vodafone Idea rebrands as...</td>\n",
       "      <td>[Vodafone, Idea,, one, of, the, largest, telec...</td>\n",
       "      <td>[Indian, telecom, giant, Vodafone, Idea, rebra...</td>\n",
       "      <td>[Indian, telecom, giant, Vodafone, Idea, rebra...</td>\n",
       "    </tr>\n",
       "    <tr>\n",
       "      <th>1</th>\n",
       "      <td>[At, the, beginning, of, the, previous, decade...</td>\n",
       "      <td>Facebook addresses political controversy in In...</td>\n",
       "      <td>[Politicians, in, the, country, today, heavily...</td>\n",
       "      <td>[Facebook, addresses, political, controversy, ...</td>\n",
       "      <td>[Facebook, addresses, political, controversy, ...</td>\n",
       "    </tr>\n",
       "    <tr>\n",
       "      <th>2</th>\n",
       "      <td>[As, TikTok’s, fate, in, the, U.S., remains, m...</td>\n",
       "      <td>YouTube launches its TikTok rival, YouTube Sho...</td>\n",
       "      <td>[As, TikTok’s, fate, in, the, U.S., remains, m...</td>\n",
       "      <td>[YouTube, launches, its, TikTok, rival,, YouTu...</td>\n",
       "      <td>[YouTube, launches, its, TikTok, rival,, YouTu...</td>\n",
       "    </tr>\n",
       "    <tr>\n",
       "      <th>3</th>\n",
       "      <td>[Even, as, more, than, 150, million, people, a...</td>\n",
       "      <td>Groww, an investment app for millennials in In...</td>\n",
       "      <td>[YC, Continuity,, the, growth-stage, investmen...</td>\n",
       "      <td>[Groww,, an, investment, app, for, millennials...</td>\n",
       "      <td>[Groww,, an, investment, app, for, millennials...</td>\n",
       "    </tr>\n",
       "    <tr>\n",
       "      <th>4</th>\n",
       "      <td>[As, part, of, the, continuing, global, rollou...</td>\n",
       "      <td>LanzaTech is developing a small-scale waste bi...</td>\n",
       "      <td>[As, part, of, the, continuing, global, rollou...</td>\n",
       "      <td>[LanzaTech, is, developing, a, small-scale, wa...</td>\n",
       "      <td>[LanzaTech, is, developing, a, small-scale, wa...</td>\n",
       "    </tr>\n",
       "  </tbody>\n",
       "</table>\n",
       "</div>"
      ],
      "text/plain": [
       "                                                text  \\\n",
       "0  [Vodafone, Idea,, one, of, the, largest, telec...   \n",
       "1  [At, the, beginning, of, the, previous, decade...   \n",
       "2  [As, TikTok’s, fate, in, the, U.S., remains, m...   \n",
       "3  [Even, as, more, than, 150, million, people, a...   \n",
       "4  [As, part, of, the, continuing, global, rollou...   \n",
       "\n",
       "                                               title  \\\n",
       "0  Indian telecom giant Vodafone Idea rebrands as...   \n",
       "1  Facebook addresses political controversy in In...   \n",
       "2  YouTube launches its TikTok rival, YouTube Sho...   \n",
       "3  Groww, an investment app for millennials in In...   \n",
       "4  LanzaTech is developing a small-scale waste bi...   \n",
       "\n",
       "                                             summary  \\\n",
       "0  [Vodafone, Idea,, one, of, the, largest, telec...   \n",
       "1  [Politicians, in, the, country, today, heavily...   \n",
       "2  [As, TikTok’s, fate, in, the, U.S., remains, m...   \n",
       "3  [YC, Continuity,, the, growth-stage, investmen...   \n",
       "4  [As, part, of, the, continuing, global, rollou...   \n",
       "\n",
       "                                       title_summary  \\\n",
       "0  [Indian, telecom, giant, Vodafone, Idea, rebra...   \n",
       "1  [Facebook, addresses, political, controversy, ...   \n",
       "2  [YouTube, launches, its, TikTok, rival,, YouTu...   \n",
       "3  [Groww,, an, investment, app, for, millennials...   \n",
       "4  [LanzaTech, is, developing, a, small-scale, wa...   \n",
       "\n",
       "                                          title_copy  \n",
       "0  [Indian, telecom, giant, Vodafone, Idea, rebra...  \n",
       "1  [Facebook, addresses, political, controversy, ...  \n",
       "2  [YouTube, launches, its, TikTok, rival,, YouTu...  \n",
       "3  [Groww,, an, investment, app, for, millennials...  \n",
       "4  [LanzaTech, is, developing, a, small-scale, wa...  "
      ]
     },
     "execution_count": 13,
     "metadata": {},
     "output_type": "execute_result"
    }
   ],
   "source": [
    "news.head()"
   ]
  },
  {
   "cell_type": "code",
   "execution_count": 14,
   "metadata": {},
   "outputs": [],
   "source": [
    "news['tags'] = news['text'] + news['summary'] + news['title_summary'] + news['title_copy']"
   ]
  },
  {
   "cell_type": "code",
   "execution_count": 15,
   "metadata": {},
   "outputs": [
    {
     "data": {
      "text/html": [
       "<div>\n",
       "<style scoped>\n",
       "    .dataframe tbody tr th:only-of-type {\n",
       "        vertical-align: middle;\n",
       "    }\n",
       "\n",
       "    .dataframe tbody tr th {\n",
       "        vertical-align: top;\n",
       "    }\n",
       "\n",
       "    .dataframe thead th {\n",
       "        text-align: right;\n",
       "    }\n",
       "</style>\n",
       "<table border=\"1\" class=\"dataframe\">\n",
       "  <thead>\n",
       "    <tr style=\"text-align: right;\">\n",
       "      <th></th>\n",
       "      <th>title</th>\n",
       "      <th>tags</th>\n",
       "    </tr>\n",
       "  </thead>\n",
       "  <tbody>\n",
       "    <tr>\n",
       "      <th>0</th>\n",
       "      <td>Indian telecom giant Vodafone Idea rebrands as...</td>\n",
       "      <td>[Vodafone, Idea,, one, of, the, largest, telec...</td>\n",
       "    </tr>\n",
       "    <tr>\n",
       "      <th>1</th>\n",
       "      <td>Facebook addresses political controversy in In...</td>\n",
       "      <td>[At, the, beginning, of, the, previous, decade...</td>\n",
       "    </tr>\n",
       "    <tr>\n",
       "      <th>2</th>\n",
       "      <td>YouTube launches its TikTok rival, YouTube Sho...</td>\n",
       "      <td>[As, TikTok’s, fate, in, the, U.S., remains, m...</td>\n",
       "    </tr>\n",
       "    <tr>\n",
       "      <th>3</th>\n",
       "      <td>Groww, an investment app for millennials in In...</td>\n",
       "      <td>[Even, as, more, than, 150, million, people, a...</td>\n",
       "    </tr>\n",
       "    <tr>\n",
       "      <th>4</th>\n",
       "      <td>LanzaTech is developing a small-scale waste bi...</td>\n",
       "      <td>[As, part, of, the, continuing, global, rollou...</td>\n",
       "    </tr>\n",
       "  </tbody>\n",
       "</table>\n",
       "</div>"
      ],
      "text/plain": [
       "                                               title  \\\n",
       "0  Indian telecom giant Vodafone Idea rebrands as...   \n",
       "1  Facebook addresses political controversy in In...   \n",
       "2  YouTube launches its TikTok rival, YouTube Sho...   \n",
       "3  Groww, an investment app for millennials in In...   \n",
       "4  LanzaTech is developing a small-scale waste bi...   \n",
       "\n",
       "                                                tags  \n",
       "0  [Vodafone, Idea,, one, of, the, largest, telec...  \n",
       "1  [At, the, beginning, of, the, previous, decade...  \n",
       "2  [As, TikTok’s, fate, in, the, U.S., remains, m...  \n",
       "3  [Even, as, more, than, 150, million, people, a...  \n",
       "4  [As, part, of, the, continuing, global, rollou...  "
      ]
     },
     "execution_count": 15,
     "metadata": {},
     "output_type": "execute_result"
    }
   ],
   "source": [
    "new = news.drop(columns=['text','summary','title_summary', 'title_copy'])\n",
    "new.head()"
   ]
  },
  {
   "cell_type": "code",
   "execution_count": 16,
   "metadata": {},
   "outputs": [
    {
     "data": {
      "text/html": [
       "<div>\n",
       "<style scoped>\n",
       "    .dataframe tbody tr th:only-of-type {\n",
       "        vertical-align: middle;\n",
       "    }\n",
       "\n",
       "    .dataframe tbody tr th {\n",
       "        vertical-align: top;\n",
       "    }\n",
       "\n",
       "    .dataframe thead th {\n",
       "        text-align: right;\n",
       "    }\n",
       "</style>\n",
       "<table border=\"1\" class=\"dataframe\">\n",
       "  <thead>\n",
       "    <tr style=\"text-align: right;\">\n",
       "      <th></th>\n",
       "      <th>title</th>\n",
       "      <th>tags</th>\n",
       "    </tr>\n",
       "  </thead>\n",
       "  <tbody>\n",
       "    <tr>\n",
       "      <th>0</th>\n",
       "      <td>Indian telecom giant Vodafone Idea rebrands as...</td>\n",
       "      <td>Vodafone Idea, one of the largest telecom oper...</td>\n",
       "    </tr>\n",
       "    <tr>\n",
       "      <th>1</th>\n",
       "      <td>Facebook addresses political controversy in In...</td>\n",
       "      <td>At the beginning of the previous decade, Faceb...</td>\n",
       "    </tr>\n",
       "    <tr>\n",
       "      <th>2</th>\n",
       "      <td>YouTube launches its TikTok rival, YouTube Sho...</td>\n",
       "      <td>As TikTok’s fate in the U.S. remains murky, Yo...</td>\n",
       "    </tr>\n",
       "    <tr>\n",
       "      <th>3</th>\n",
       "      <td>Groww, an investment app for millennials in In...</td>\n",
       "      <td>Even as more than 150 million people are using...</td>\n",
       "    </tr>\n",
       "    <tr>\n",
       "      <th>4</th>\n",
       "      <td>LanzaTech is developing a small-scale waste bi...</td>\n",
       "      <td>As part of the continuing global rollout of La...</td>\n",
       "    </tr>\n",
       "  </tbody>\n",
       "</table>\n",
       "</div>"
      ],
      "text/plain": [
       "                                               title  \\\n",
       "0  Indian telecom giant Vodafone Idea rebrands as...   \n",
       "1  Facebook addresses political controversy in In...   \n",
       "2  YouTube launches its TikTok rival, YouTube Sho...   \n",
       "3  Groww, an investment app for millennials in In...   \n",
       "4  LanzaTech is developing a small-scale waste bi...   \n",
       "\n",
       "                                                tags  \n",
       "0  Vodafone Idea, one of the largest telecom oper...  \n",
       "1  At the beginning of the previous decade, Faceb...  \n",
       "2  As TikTok’s fate in the U.S. remains murky, Yo...  \n",
       "3  Even as more than 150 million people are using...  \n",
       "4  As part of the continuing global rollout of La...  "
      ]
     },
     "execution_count": 16,
     "metadata": {},
     "output_type": "execute_result"
    }
   ],
   "source": [
    "new['tags'] = new['tags'].apply(lambda x: \" \".join(x))\n",
    "new.head()"
   ]
  },
  {
   "cell_type": "code",
   "execution_count": 17,
   "metadata": {},
   "outputs": [],
   "source": [
    "import nltk # type: ignore\n",
    "from nltk.stem.porter import PorterStemmer # type: ignore\n",
    "ps = PorterStemmer()\n"
   ]
  },
  {
   "cell_type": "code",
   "execution_count": 18,
   "metadata": {},
   "outputs": [],
   "source": [
    "def stem(text):\n",
    "    y=[]\n",
    "    for i in text.split():\n",
    "        y.append(ps.stem(i))\n",
    "\n",
    "    return \" \".join(y)"
   ]
  },
  {
   "cell_type": "code",
   "execution_count": 19,
   "metadata": {},
   "outputs": [],
   "source": [
    "new['tags']=new['tags'].apply(stem)"
   ]
  },
  {
   "cell_type": "code",
   "execution_count": 20,
   "metadata": {},
   "outputs": [
    {
     "data": {
      "text/html": [
       "<div>\n",
       "<style scoped>\n",
       "    .dataframe tbody tr th:only-of-type {\n",
       "        vertical-align: middle;\n",
       "    }\n",
       "\n",
       "    .dataframe tbody tr th {\n",
       "        vertical-align: top;\n",
       "    }\n",
       "\n",
       "    .dataframe thead th {\n",
       "        text-align: right;\n",
       "    }\n",
       "</style>\n",
       "<table border=\"1\" class=\"dataframe\">\n",
       "  <thead>\n",
       "    <tr style=\"text-align: right;\">\n",
       "      <th></th>\n",
       "      <th>title</th>\n",
       "      <th>tags</th>\n",
       "    </tr>\n",
       "  </thead>\n",
       "  <tbody>\n",
       "    <tr>\n",
       "      <th>0</th>\n",
       "      <td>Indian telecom giant Vodafone Idea rebrands as...</td>\n",
       "      <td>vodafon idea, one of the largest telecom oper ...</td>\n",
       "    </tr>\n",
       "    <tr>\n",
       "      <th>1</th>\n",
       "      <td>Facebook addresses political controversy in In...</td>\n",
       "      <td>at the begin of the previou decade, facebook h...</td>\n",
       "    </tr>\n",
       "    <tr>\n",
       "      <th>2</th>\n",
       "      <td>YouTube launches its TikTok rival, YouTube Sho...</td>\n",
       "      <td>as tiktok’ fate in the u.s. remain murky, yout...</td>\n",
       "    </tr>\n",
       "    <tr>\n",
       "      <th>3</th>\n",
       "      <td>Groww, an investment app for millennials in In...</td>\n",
       "      <td>even as more than 150 million peopl are use di...</td>\n",
       "    </tr>\n",
       "    <tr>\n",
       "      <th>4</th>\n",
       "      <td>LanzaTech is developing a small-scale waste bi...</td>\n",
       "      <td>as part of the continu global rollout of lanza...</td>\n",
       "    </tr>\n",
       "  </tbody>\n",
       "</table>\n",
       "</div>"
      ],
      "text/plain": [
       "                                               title  \\\n",
       "0  Indian telecom giant Vodafone Idea rebrands as...   \n",
       "1  Facebook addresses political controversy in In...   \n",
       "2  YouTube launches its TikTok rival, YouTube Sho...   \n",
       "3  Groww, an investment app for millennials in In...   \n",
       "4  LanzaTech is developing a small-scale waste bi...   \n",
       "\n",
       "                                                tags  \n",
       "0  vodafon idea, one of the largest telecom oper ...  \n",
       "1  at the begin of the previou decade, facebook h...  \n",
       "2  as tiktok’ fate in the u.s. remain murky, yout...  \n",
       "3  even as more than 150 million peopl are use di...  \n",
       "4  as part of the continu global rollout of lanza...  "
      ]
     },
     "execution_count": 20,
     "metadata": {},
     "output_type": "execute_result"
    }
   ],
   "source": [
    "new.head()"
   ]
  },
  {
   "cell_type": "code",
   "execution_count": 21,
   "metadata": {},
   "outputs": [
    {
     "data": {
      "text/html": [
       "<div>\n",
       "<style scoped>\n",
       "    .dataframe tbody tr th:only-of-type {\n",
       "        vertical-align: middle;\n",
       "    }\n",
       "\n",
       "    .dataframe tbody tr th {\n",
       "        vertical-align: top;\n",
       "    }\n",
       "\n",
       "    .dataframe thead th {\n",
       "        text-align: right;\n",
       "    }\n",
       "</style>\n",
       "<table border=\"1\" class=\"dataframe\">\n",
       "  <thead>\n",
       "    <tr style=\"text-align: right;\">\n",
       "      <th></th>\n",
       "      <th>title</th>\n",
       "      <th>tags</th>\n",
       "    </tr>\n",
       "  </thead>\n",
       "  <tbody>\n",
       "    <tr>\n",
       "      <th>0</th>\n",
       "      <td>Indian telecom giant Vodafone Idea rebrands as...</td>\n",
       "      <td>vodafon idea, one of the largest telecom oper ...</td>\n",
       "    </tr>\n",
       "    <tr>\n",
       "      <th>1</th>\n",
       "      <td>Facebook addresses political controversy in In...</td>\n",
       "      <td>at the begin of the previou decade, facebook h...</td>\n",
       "    </tr>\n",
       "    <tr>\n",
       "      <th>2</th>\n",
       "      <td>YouTube launches its TikTok rival, YouTube Sho...</td>\n",
       "      <td>as tiktok’ fate in the u.s. remain murky, yout...</td>\n",
       "    </tr>\n",
       "  </tbody>\n",
       "</table>\n",
       "</div>"
      ],
      "text/plain": [
       "                                               title  \\\n",
       "0  Indian telecom giant Vodafone Idea rebrands as...   \n",
       "1  Facebook addresses political controversy in In...   \n",
       "2  YouTube launches its TikTok rival, YouTube Sho...   \n",
       "\n",
       "                                                tags  \n",
       "0  vodafon idea, one of the largest telecom oper ...  \n",
       "1  at the begin of the previou decade, facebook h...  \n",
       "2  as tiktok’ fate in the u.s. remain murky, yout...  "
      ]
     },
     "execution_count": 21,
     "metadata": {},
     "output_type": "execute_result"
    }
   ],
   "source": [
    "new['tags']=new['tags'].apply(lambda x:x.lower())\n",
    "new.head(3)"
   ]
  },
  {
   "cell_type": "code",
   "execution_count": 22,
   "metadata": {},
   "outputs": [],
   "source": [
    "from sklearn.feature_extraction.text import CountVectorizer # type: ignore\n",
    "cv = CountVectorizer(max_features=5000,stop_words='english')"
   ]
  },
  {
   "cell_type": "code",
   "execution_count": 23,
   "metadata": {},
   "outputs": [
    {
     "data": {
      "text/plain": [
       "(2184, 5000)"
      ]
     },
     "execution_count": 23,
     "metadata": {},
     "output_type": "execute_result"
    }
   ],
   "source": [
    "vector = cv.fit_transform(new['tags']).toarray()\n",
    "vector.shape"
   ]
  },
  {
   "cell_type": "code",
   "execution_count": 24,
   "metadata": {},
   "outputs": [
    {
     "data": {
      "text/plain": [
       "array([[1.        , 0.40272396, 0.12987128, ..., 0.09031587, 0.03585804,\n",
       "        0.06861115],\n",
       "       [0.40272396, 1.        , 0.15756916, ..., 0.14690053, 0.03161182,\n",
       "        0.0633336 ],\n",
       "       [0.12987128, 0.15756916, 1.        , ..., 0.03416847, 0.03614764,\n",
       "        0.04556394],\n",
       "       ...,\n",
       "       [0.09031587, 0.14690053, 0.03416847, ..., 1.        , 0.00756534,\n",
       "        0.07636947],\n",
       "       [0.03585804, 0.03161182, 0.03614764, ..., 0.00756534, 1.        ,\n",
       "        0.04806974],\n",
       "       [0.06861115, 0.0633336 , 0.04556394, ..., 0.07636947, 0.04806974,\n",
       "        1.        ]])"
      ]
     },
     "execution_count": 24,
     "metadata": {},
     "output_type": "execute_result"
    }
   ],
   "source": [
    "from sklearn.metrics.pairwise import cosine_similarity\n",
    "similarity = cosine_similarity(vector)\n",
    "similarity"
   ]
  },
  {
   "cell_type": "code",
   "execution_count": 25,
   "metadata": {},
   "outputs": [
    {
     "name": "stderr",
     "output_type": "stream",
     "text": [
      "C:\\Users\\hardi\\AppData\\Roaming\\Python\\Python312\\site-packages\\fuzzywuzzy\\fuzz.py:11: UserWarning: Using slow pure-python SequenceMatcher. Install python-Levenshtein to remove this warning\n",
      "  warnings.warn('Using slow pure-python SequenceMatcher. Install python-Levenshtein to remove this warning')\n"
     ]
    }
   ],
   "source": [
    "from fuzzywuzzy import process  # type: ignore # For partial matching\n",
    "\n",
    "def recommend(news):\n",
    "    # Get the closest matching title using fuzzy matching\n",
    "    closest_title = process.extractOne(news, new['title'])[0]  # Finds the most similar title\n",
    "    index = new[new['title'] == closest_title].index[0]  # Get the index of the closest match\n",
    "\n",
    "    # Compute similarities and sort\n",
    "    distances = sorted(list(enumerate(similarity[index])), reverse=True, key=lambda x: x[1])\n",
    "\n",
    "    data = []\n",
    "    for i in distances[0:5]:  # Top 5 recommendations\n",
    "        item = []\n",
    "        temp_df = newses[newses['Unnamed: 0.1'] == new.index[i[0]]]\n",
    "        \n",
    "        # Extract details and remove duplicates\n",
    "        item.extend(list(temp_df.drop_duplicates('Unnamed: 0.1')['title'].values))\n",
    "        item.extend(list(temp_df.drop_duplicates('Unnamed: 0.1')['title_summary'].values))\n",
    "        item.extend(list(temp_df.drop_duplicates('Unnamed: 0.1')['date'].values))\n",
    "        item.extend(list(temp_df.drop_duplicates('Unnamed: 0.1')['link'].values))\n",
    "\n",
    "        data.append(item)\n",
    "    return data\n"
   ]
  },
  {
   "cell_type": "code",
   "execution_count": 26,
   "metadata": {},
   "outputs": [
    {
     "data": {
      "text/plain": [
       "[['Silver Lake leads $500 million investment round in Indian online learning giant Byju’s – TechCrunch',\n",
       "  'Silver Lake leads $500 million investment round in Indian online learning giant Byju’s – TechCrunch Byju’s has raised $500 million in a new financing round that values the Indian online learning platform at $10.8 billion, a source familiar with the matter told TechCrunch.\\r\\n\\r\\nThe round was led by Menlo Park-headquartered PE firm Silver Lake, and existing investors Tiger Global, General Atlantic and Owl Ventures have also participated in it, India’s second most valuable startup Byju’s said in a statement, but declined to reveal the size of the round and its valuation.\\r\\n\\r\\n“We are excited to welcome a strong partner like Silver Lake to the BYJU’S family,” said Byju Raveendran, co-founder and CEO of the eponymous startup in a statement. Raveendran will be appearing at Disrupt 2020 next week.\\r\\n\\r\\n“We are fortunate to be in a sector of positive relevance during this crisis. This has brought online learning to the forefront and is helping parents, teachers and students experience and understand its value. Our classrooms are changing possibly for the first time in 100 years and I’m really excited about the opportunities that we have to redefine the future of learning,” he added.\\r\\n\\r\\nByju’s prepares students pursuing undergraduate and graduate-level courses, and in recent years it has also expanded its catalog to serve all school-going students. Tutors on Byju’s app tackle complex subjects using real-life objects such as pizza and cake.\\r\\n\\r\\nThe growing valuation of Byju’s comes as education startups report massive growth in their usage. Unacademy, a Facebook-backed edtech startup, nearly tripled its valuation in a span of months with its new $150 million fundraise last week. Byju’s, which was valued at $10.5 billion in June when it raised capital from Mary Meeker’s Bond (according to TechCrunch), was valued at about $5.75 billion in July last year.\\r\\n\\r\\nAs the coronavirus outbreak began to spread in India earlier this year, New Delhi enforced a nationwide lockdown that saw schools close across the nation. This has led many parents to explore digital learning services alternatives for their kids.\\r\\n\\r\\nEven as most Indians tend not to pay for online services — just ask Facebook, which has amassed over 400 million users in India and makes little in the country — the education category has become an outlier. Indian families continue to spend heavily on their children’s education in hopes of paving the way for a better future.\\r\\n\\r\\nSince the lockdown, Byju’s has added 20 million new students on its platform. Today, the app has over 64 million registered students and 4.2 million annual paid subscriptions. The startup said it has also doubled its revenue.\\r\\n\\r\\n“We are delighted to lead this investment and partner with Byju and his impressive team of education technology pioneers in their mission to help children in India and around the world achieve their true potential,” said Greg Mondre, Co-CEO of Silver Lake in a statement. Silver Lake also invested about $1.35 billion in India’s Jio Platforms earlier this year.\\r\\n\\r\\n“We look forward to working with them as BYJU’S builds on and accelerates its compelling growth trajectory by forging new partnerships and continuing to cultivate a comprehensive ecosystem of innovative educational offerings.”\\r\\n\\r\\nThere has also been some consolidation. Byju’s acquired 18-month-old WhiteHat Jr., which teaches coding to kids, for $300 million. In an interview with TechCrunch, Raveendran said the startup is raising capital in part to finance any acquisitions.',\n",
       "  '2020-09-07 00:00:00',\n",
       "  'http://techcrunch.com/2020/09/07/silver-lake-leads-500-million-round-in-indias-byjus/'],\n",
       " ['Business & Financial News, U.S & International Breaking News',\n",
       "  \"Business & Financial News, U.S & International Breaking News Curiosity high for TV's anything-can-happen virtual Emmys\\r\\n\\r\\nCalifornia may be burning and the United States is in the midst of the novel coronavirus pandemic, but Hollywood is hoping that there might be some relief in a party - albeit at a distance - at Sunday's Emmy awards.\",\n",
       "  nan,\n",
       "  'https://af.reuters.com/article/ozabs-uk-namibia-economy-idAFKBN26125Z-OZABS'],\n",
       " ['Indian decacorn Byju’s CEO talks about future acquisitions, coronavirus and international expansion – TechCrunch',\n",
       "  'Indian decacorn Byju’s CEO talks about future acquisitions, coronavirus and international expansion – TechCrunch Since India enforced a lockdown across the country in late March, shutting schools and other public places, Bangalore-headquartered startup Byju’s has emerged as one of the quintessential platforms for school-going students in the world’s second largest internet market.\\r\\n\\r\\nIt took the startup about four and a half years to amass 40 million students. Since the lockdown, its user base has ballooned to 65 million, its co-founder and chief executive Byju Raveendran said at the Disrupt 2020 conference Tuesday.\\r\\n\\r\\nStudents say they were attracted to Byju’s platform because of the way it taught them subjects. Byju, who is a teacher himself, found intuitive ways like using real-life objects such as a pizza to teach complex math problems.\\r\\n\\r\\nHis startup is valued at nearly $11 billion as of last week (which makes it India’s second most valuable startup), and has presence across several international markets. Late last year, Byju’s announced it has also turned profitable. It’s not everyday that we see an Indian startup with any of these three characteristics — let alone all three in one.\\r\\n\\r\\nIn a wide-ranging interview at Disrupt 2020, Raveendran shared the journey of Byju’s, which started as an offline platform that taught students at classrooms, auditoriums and stadiums; the startup’s plans for further expansion in international markets; his views on merger and acquisition opportunities; and how the coronavirus pandemic has affected his business and the education landscape at large in India, among a number of other things.\\r\\n\\r\\n“Unfortunately it took a pandemic for most stakeholders to try out digital learning. Parents are now accepting the online segment more than before. This sector is clearly at an inflexion point,” said Raveendran.\\r\\n\\r\\nTo make online learning more accessible to students, Byju’s made all of its offerings free during the pandemic. But the platform’s paying subscribers, now at more than 4 million, remains on a steady path of growth, he said.\\r\\n\\r\\nThe startup expects to generate more than $1 billion in revenue this year from India itself and take home profits between $150 million to $180 million, he said.\\r\\n\\r\\n“I would still call it a relative success. What we consider as the target audience, we have less than 4% of penetration in that segment,” he said. “More than one-third of school-going students don’t have a smartphone. There’s still a lot of catch up to do.”\\r\\n\\r\\nAnother phenomenon that the pandemic has kickstarted in India is some consolidation in the edtech startup space. Byju’s itself acquired WhiteHat Jr., an 18-month-old startup that teaches coding skills to students, for $300 million.\\r\\n\\r\\nTechCrunch has reported that the startup is engaging with several more startups, including Indian firm Doubtnut, which through its app allows students to take a picture of a math problem and delivers a step-by-step solution.\\r\\n\\r\\nHere’s what Raveendran had to say about that: “The long-term potential of the sector is at an all-time high. […] We are looking for companies that can add strong product components to either our existing user base or potential new customers in new markets, or companies that can give us some kind of distribution so that we get a head start to launch in a new market — especially English speaking markets.”\\r\\n\\r\\n“You will hear of a few more acquisitions from us. We are exploring some of them very seriously,” he added. The future acquisitions will again be all-cash deals, Raveendran said, as he “values equity more than others.”\\r\\n\\r\\nOn IPO, fundraise and international expansion\\r\\n\\r\\nByju’s isn’t looking to go public for at least two years, the chief executive said. “We have strong business fundamentals; we have been able to find the right balance between high-growth and sustainable growth and created a very profitable model in such a short period of time. But we have not seriously thought about the public listing,” he added.\\r\\n\\r\\nAnd it appears that investors in Byju’s are also not in a hurry. “We don’t need to do public listing to give exit to some of the early investors because the business itself will generate enough cash. A good number of them have already taken the money they invested out in the last few rounds,” he said.\\r\\n\\r\\nByju’s has raised more than $700 million this year. We asked Raveendran why is the startup raising capital. “We have been very capital-efficient in terms of how we have used the primary capital we have raised. In the first five years, we have utilized less than $350 million of the primary capital — which shows how we have efficiently scaled the model,” he said.\\r\\n\\r\\n“Most of the recent fundraising is to finance inorganic growth, like full-cash acquisitions. We are utilizing it to add some strong business models. We never raised money because we needed it. It was always to add the right partner. In recent times, we have added long-term, patient investors,” he said. Byju’s is likely not done with its fundraising spree yet, as the startup is currently engaging with at least two more investment firms.\\r\\n\\r\\nFor expansion in international markets, Raveendran said it plans to launch a digital learning app aimed at kids in several English-speaking markets. He said WhiteHat Jr., will introduce math subjects to its offering to serve customers in several markets, including Australia, New Zealand.\\r\\n\\r\\nWe also talked about what he thinks of other giant startups in India that are not profitable today, the kind of message that sends to international investors and whether there is room for any new player in the education market in India, and much more. You can watch the full interview below.',\n",
       "  '2020-09-15 00:00:00',\n",
       "  'http://techcrunch.com/2020/09/15/indian-decacorn-byjus-ceo-talks-about-future-acquisitions-coronavirus-and-international-expansion/'],\n",
       " ['Business & Financial News, U.S & International Breaking News',\n",
       "  \"Business & Financial News, U.S & International Breaking News Curiosity high for TV's anything-can-happen virtual Emmys\\r\\n\\r\\nCalifornia may be burning and the United States is in the midst of the novel coronavirus pandemic, but Hollywood is hoping that there might be some relief in a party - albeit at a distance - at Sunday's Emmy awards.\",\n",
       "  nan,\n",
       "  'https://af.reuters.com/article/australia-renewables-idAFL4N2GD2L1'],\n",
       " ['Chan Zuckerberg Initiative backs Indian education startup Eruditus in $113 million fundraise – TechCrunch',\n",
       "  'Chan Zuckerberg Initiative backs Indian education startup Eruditus in $113 million fundraise – TechCrunch Mumbai-based Eruditus, which works with top universities globally to offer more than 100 executive-level courses to students in over 80 nations, said on Monday it has raised $113 million in a new financing round as it looks to further scale its business to reach more learners.\\r\\n\\r\\nThe Series D financing round for the 10-year-old startup was co-led by Leeds Illuminate and Prosus Ventures. Chan Zuckerberg Initiative and existing investors Sequoia India and Ved Capital also participated in the round, which brings Eruditus’ to-date raise to more than $160 million. Eruditus is now valued at over $700 million, a person familiar with the matter said. Avendus Capital was the financial advisor to Eruditus on this transaction.\\r\\n\\r\\nEruditus maintains a tie-up with over 30 top-tier universities, including MIT, Harvard, Columbia, Cambridge, INSEAD, Wharton, UC Berkeley, IIT, IIM and NUS. The universities and Eruditus work to develop courses that are aimed at offering higher education to students. These courses cost anything between $5,000 to $40,000.\\r\\n\\r\\nThere’s no shortage of startups that offer similar courses to students for free or at the price of a cup of coffee. At a conference last year, Ashwin Damera, Eruditus co-founder and chief executive of Eruditus, said his startup provides a range of additional offerings, including tailored learning, and tracks the outcome of the course in a student’s life.\\r\\n\\r\\nThe startup, which has offices in six countries and employs more than 650 people, said it has enrolled 50,000 students in the past 12 months.\\r\\n\\r\\nEruditus is the second startup that Chan Zuckerberg Initiative has backed in India. Its first investment in the country, Byju’s, also operates in the edtech market. (In fact, it’s grown to become the most valued edtech startup in the world.)\\r\\n\\r\\n“Eruditus serves as a critical innovation partner for top universities as they expand online course offerings in response to workforce needs and market demand,” said Vivian Wu, managing partner, Ventures, Chan Zuckerberg Initiative, in a statement. “We’re excited to support the growing partnerships between U.S. universities and those in India, China and Latin America that are making truly high-quality education accessible to a broad and diverse range of students.”\\r\\n\\r\\nEruditus said it will use the fresh capital to partner with more universities and expand in emerging markets. It said it also wants to invest in developing career-ready courses to help the workforce acquire the skills they need to survive in the post-pandemic world.\\r\\n\\r\\n“Eruditus’ goals are a great match for ours — democratizing access of quality resources for a much broader audience. The value of the teachings of the great institutions has been rationed to those who can physically and monetarily access their facilities. Eruditus unlocks those assets and enables those institutions to help a whole new cohort of learners around the globe,” said Ashutosh Sharma, head of Investments for India at Prosus Ventures, which has invested in six edtech startups, including Byju’s.',\n",
       "  '2020-08-31 00:00:00',\n",
       "  'http://techcrunch.com/2020/08/31/chan-zuckerberg-initiative-backs-indian-education-startup-eruditus-in-113-million-fundraise/']]"
      ]
     },
     "execution_count": 26,
     "metadata": {},
     "output_type": "execute_result"
    }
   ],
   "source": [
    "recommend('Silver Lake round in Indian online learning giant Byju’s – TechCrunch')"
   ]
  },
  {
   "cell_type": "code",
   "execution_count": 27,
   "metadata": {},
   "outputs": [
    {
     "data": {
      "text/plain": [
       "[['It’s (still) time to end ‘Trending’ on Twitter',\n",
       "  \"It’s (still) time to end ‘Trending’ on Twitter The Interface is a daily column and newsletter about the intersection of social media and democracy. Subscribe here .\\r\\n\\r\\nIn August 2019, after the disgraced financier Jeffrey Epstein was found dead in his jail cell, conspiracy theories about what had happened ran rampant on social networks. The theories did not necessarily originate there, but the networks did their part to amplify them, and the confusion that followed was dubbed “the disinformation World Cup.”\\r\\n\\r\\nAt the center of the maelstrom was Twitter, where various baseless theories about Epstein’s death dominated the discussion. One reason why is that enough people tweet the same hashtag on Twitter, it almost always shows up on the app’s tab of “trending topics,” no matter how deranged. During the Epstein mania, for example, #ClintonBodyCount trended, and President Trump — who is known to trawl Twitter trends for material — retweeted an account that sought to link Epstein’s death to the former president.\\r\\n\\r\\nTo me, the incident offered reasons to bring an end to trending topics altogether. One, the Twitter was seemingly powerless to stop bad actors from gaming the algorithm and inserting fringe ideas into mainstream discussion. And two, the feature had been made largely redundant by Moments, a 5-year-old product that uses human curators to find items of interest on Twitter each day and organize meaningful discussions around them.\\r\\n\\r\\nIn conversations with Twitter around that time, executives told me that they knew their trends had problems, but ensured me that fixes were coming. On Tuesday — more than a year after the disinformation World Cup — the first such fix arrived. The company announced it in a blog post:\\r\\n\\r\\nSometimes the right Tweet can help make sense of a trend. Starting today, some trends will have a representative Tweet pinned to them to give you more insight about a trend right away. A combination of algorithms and our curation team determine if a Tweet represents a trend by evaluating if the Tweet is very reflective of the trend and popular. Our algorithms are designed to identify representative Tweets that aren’t potentially abusive, spam, or posted by accounts trying to take advantage of our system. Representative Tweets on trends can be found on Twitter for iOS and Android now. We’re working to bring them to twitter.com soon too. In the coming weeks, you should see brief descriptions added to some trends as well to help add context to the trend.\\r\\n\\r\\nSo now when something trends, you’ll see a tweet that explains why, plus maybe a short explanation from Twitter. If nothing else, this should resolve what might be the most common complaint about trends for the past decade or so: whenever a celebrity’s name is trending, everyone assumes they are dead, and has to frantically search through tweets to see whether that is in fact the case. And the addition of context to viral information is, in general, a good thing.\\r\\n\\r\\nIn other cases, I might simply acknowledge that Twitter had taken a step in the right direction and pointed to another step or two the company could consider. But I don’t think that would go far enough here: Twitter trends are still fundamentally broken, and I’d still rather see them shut off for good.\\r\\n\\r\\nJust look at some of the “trends” that have surfaced in the year since Epstein’s death brought outsized attention to the problem. Here’s Kate Conger and Nicole Perlroth today in the New York Times:\\r\\n\\r\\nIn February, Russian trolls fueled an American-made conspiracy theory that former members of Hillary Clinton’s staff were rigging the Iowa caucuses, and helped push the baseless theory to the top of Twitter’s trending list. In July, white nationalists pushed the anti-Semitic hashtag #JewishPrivilege until it became a trend, and QAnon, a pro-Trump conspiracy group, made Wayfair, the furniture company, trend on Twitter with false claims that the company engaged in child trafficking.\\r\\n\\r\\nMore recently, QAnon adherents took over the hashtag #SaveTheChildren as part of a campaign to falsely link celebrities to child trafficking. As Kevin Roose reported in the Times, the hashtag-jacking has successfully allowed QAnon to reach new followers — and it was as easy as making it into the trending module. It will continue to be easy to make it into the trending module: Twitter still requires no approval from a human curator for a topic to trend.\\r\\n\\r\\nReading through the list of conspiracy topics that have surfaced in Twitter trends over the past year, it’s hard to imagine how the changes announced on Tuesday will much improve the product. Will trends be worthy when a human curator picks a “representative tweet” for, uh, #JewishPrivilege? What about #SaveTheChildren? If they add a label, what will it say? It seems possible that this editorial work will only serve to make these “trends” seem more credible, rather than less. And that could help to amplify these ideas even further than Twitter does today.\\r\\n\\r\\nAll of that has led some critics to push Twitter to shut off trends at least through October and the US presidential election. Naturally, this has taken the form of a hashtag campaign: #UntrendOctober. Libby Cohen explained its origins in the Daily Dot:\\r\\n\\r\\nThe calls come on the heels of a MIT Technology Review report which said bot activity on Twitter has increased during the coronavirus pandemic. Bots run various Twitter accounts and take responsibility for much of the misinformation spread on social media sites. MIT found that around 45% to 60% of coronavirus-related tweets have been pushed by bot accounts, many of which were spreading misinformation about the pandemic.\\r\\n\\r\\nA Twitter spokeswoman told me that the company knows it has more work to do to improve trends, and that Tuesday’s announcements were meant only as a first step. But the first step was too long in coming, and the stakes feel too high for the product to continue in its current form. The best time for Twitter to have killed off trends was a year ago. The second-best time is today.\\r\\n\\r\\nPushback\\r\\n\\r\\nI made a couple mistakes in yesterday’s column about Kenosha. Facebook has about 15,000 third-party moderators, not 30,000. And I should have noted that the moderation site in Arizona that I referenced has closed since I wrote about it. Sorry for the errors.\\r\\n\\r\\nThe Ratio\\r\\n\\r\\nToday in news that could affect public perception of the big tech platforms.\\r\\n\\r\\nTrending up: Mark Zuckerberg and Priscilla Chan are investing $300 million in election infrastructure. “The more I’ve focused on this election, the more important I’ve felt it is both to make sure local counties and states have the resources they need to handle these unprecedented conditions,” Zuckerberg said. (Mike Allen / Axios)\\r\\n\\r\\nTrending up: Snapchat is partnering with Power the Polls to encourage users to volunteer as poll workers on Election Day. The move comes amid a looming poll worker shortages due to older people staying home because of COVID-19. (Sara Fischer / Axios)\\r\\n\\r\\nTrending down: Amazon appeared to be trying to hire two intelligence analysts to track “labor organizing threats” within the company. The company recently posted two job listings for the roles, but deleted them late Tuesday after media attention. (Lorenzo Franceschi-Bicchierai / Vice)\\r\\n\\r\\nGoverning\\r\\n\\r\\n⭐ Trump has made it clear he expects the US government to be “well compensated” if a TikTok sale goes through. The President says a deal must be struck by September 15th. Josh Wingrove and David McLaughlin at Bloomberg have the news:\\r\\n\\r\\nIt remains unclear how the U.S. would collect compensation from the sale of TikTok, forced by the president’s orders last month that the popular video streaming app represents a national security threat because its parent company is Chinese. [...] Trump believes that the U.S. deserves a payback for having to resolve the national security threat posed by TikTok and the administration is looking at ways to extract a settlement from any deal that’s struck, according to a person familiar with the matter.\\r\\n\\r\\nThe baseless conspiracy theory President Trump promoted on Monday, that a plane “almost completely loaded with thugs” had been set to disrupt the Republican National Convention, was almost identical to a rumor that went viral on Facebook three months ago. (Ben Collins / NBC)\\r\\n\\r\\nTwitter labeled a tweet from the Trump campaign as “manipulated media” due to a misleading clip of Joe Biden saying, “You won’t be safe in Joe Biden’s America!” The full clip shows Biden was quoting Trump and Pence when he said that phrase. (Rashaan Ayesh / Axios)\\r\\n\\r\\nFederal agents have homed in on a 16-year-old in Massachusetts who may have played a large role in the July 15th Twitter hack that compromised the accounts of Barack Obama, Joe Biden, Jeff Bezos, and others. They served the teen with a search warrant at the home where he lives with his parents. (Nathaniel Popper / The New York Times)\\r\\n\\r\\nFacebook took down a small network of fake accounts associated with Russian operatives that had recruited US journalists to write articles on racial justice, the Biden-Harris campaign and President Trump. The company said it caught the network early, before it had a chance to build a large audience. (Elizabeth Dwoskin and Craig Timberg / The Washington Post)\\r\\n\\r\\nFacebook rolled out a series of changes ahead of the election in Myanmar on November 8th. The company invested in proactive detection technology to catch hate speech on the platform, and expanded its misinformation policy to include false news aimed at suppressing the vote. The company was previously found by the United Nations to have contributed to ethnic violence in the country by allowing hate speech to spread unchecked. (Facebook)\\r\\n\\r\\nA regulatory vacuum in the online advertising market has allowed Google to dominate the industry by doing things that are prohibited in other parts of the economy, says antitrust scholar Dina Srinivasan. She’s arguing that the ad market should be regulated more like the stock market. (Gilad Edelman / Wired)\\r\\n\\r\\nFacebook and Google are hurting local communities by serving as vectors for misinformation while crippling local journalism, according to a new paper from progressive think tank the American Economic Liberties Project charges. You can read the full paper here. (Kyle Daly / Axios)\\r\\n\\r\\nFacebook and Google are threatening to cut off news services in Australia if lawmakers pass a proposed law that would force both companies to negotiate with media companies and pay them for content that appears on their sites. Facebook said it would block users from sharing news stories on its platforms if the law moves forward. My thoughts on this subject track pretty closely with Ben Thompson, who called the proposed law a shakedown. (Daisuke Wakabayashi and Mike Isaac / The New York Times)\\r\\n\\r\\nApple and Google created a new automatic app system to track COVID exposures. It allows public health officials avoid the broader development work of launching a standalone app, simply configuring the basic framework to their state’s needs. The project is an extension of the exposure notification framework the companies launched earlier this year. (Russell Brandom / The Verge)\\r\\n\\r\\nPrivacy activists are turning to the courts in Europe to get their GDPR complaints wrapped up in a timely manner. The shift hints at growing disappointment with a privacy system that is still struggling to finalize a major investigation more than two years after the GDPR went into effect. (Vincent Manancourt / Politico)\\r\\n\\r\\nJoe Biden’s presidential campaign launched official Animal Crossing: New Horizons yard signs as part of a broader push to organize voters online this fall. The four sign designs for players to download include the official Biden-Harris logo, Team Joe logo, the “Joe” Pride logo, and an image of aviator sunglasses shaded in red, white, and blue. (Makena Kelly / The Verge)\\r\\n\\r\\nIndustry\\r\\n\\r\\n⭐ Amazon drivers are hanging phones in trees to try and get orders first. The tactic is emblematic of the ferocious competition for work in the US — and the shortcomings of the gig economy. Spencer Soper at Bloomberg explains how this works:\\r\\n\\r\\nSomeone places several devices in a tree located close to the station where deliveries originate. Drivers in on the plot then sync their own phones with the ones in the tree and wait nearby for an order pickup. The reason for the odd placement, according to experts and people with direct knowledge of Amazon’s operations, is to take advantage of the handsets’ proximity to the station, combined with software that constantly monitors Amazon’s dispatch network, to get a split-second jump on competing drivers. [...] An Uber-like app called Amazon Flex lets drivers make deliveries in their own cars. For many with other jobs, it’s a way to earn extra money in their spare time. But with joblessness rising and unemployment payments shrinking, competition for such work has stiffened, and more people rely on it as their primary income source. Adding to the pressure, fewer people are using ride-hailing services like Uber and Lyft, so more drivers have to deliver online shopping orders to make money. As a result, some Whole Foods locations have come to resemble parking lots at Home Depot Inc., where day laborers have long congregated to pick up home repair gigs.\\r\\n\\r\\nOnlyFans rolled out new changes that could impact how much money creators make on the platform. The new rules include a $100 cap on paid private messages and a $50 cap on pay-per-view posts for creators who don’t charge a subscription. Good opportunity here for Substack! (Ashley Carman / The Verge)\\r\\n\\r\\nThings to do\\r\\n\\r\\nStuff to occupy you online during the quarantine.\\r\\n\\r\\nListen to me talk about Facebook’s Kenosha problem. I talked about it on the most recent episode of Vox.com’s Today Explained.\\r\\n\\r\\nAnd finally...\\r\\n\\r\\nthe only thing more embarrassing than my browser history is my calculator history — Living Morganism (@ok_girlfriend) August 30, 2020\\r\\n\\r\\nJeff Bezos can't sleep until he puts his pajamazon — He Called Me Greenhorn (@WhatsAGreenhorn) September 1, 2020\\r\\n\\r\\nI knew this app was toxic when someone posted their plane ticket and someone called and cancelled their flight — loz (rebranding era) (@26lozz) August 31, 2020\\r\\n\\r\\nAs per my last engraved tablet pic.twitter.com/ajB2E0ktWp — Lethality Jane (@LethalityJane) September 1, 2020\\r\\n\\r\\nTalk to us\\r\\n\\r\\nSend us tips, comments, questions, and trending nonsense: casey@theverge.com and zoe@theverge.com.\",\n",
       "  '2020-09-02 00:00:00',\n",
       "  'https://www.theverge.com/interface/2020/9/2/21413001/twitter-trends-labels-representative-tweets-conspiracies-misinformation'],\n",
       " ['Stop Yelling About a Rushed Vaccine, and Start Planning for It',\n",
       "  'Stop Yelling About a Rushed Vaccine, and Start Planning for It A vaccine for the coronavirus is coming. The vaccine will almost certainly be authorized on an emergency basis, and not through the usual approval process at the Food and Drug Administration. That authorization will be subject to some nonzero level of political influence. It is not a question of whether these things will happen, but rather when. It is time to stop yelling about this possibility and start planning for it. Covid-19 has already ravaged the economy and will soon have killed more than 200,000 Americans. How can we make sure that the upcoming authorization of a vaccine is a positive for public health?\\r\\n\\r\\nWIRED OPINION ABOUT Walid Gellad (@walidgellad) is a physician and policy researcher at the University of Pittsburgh, where he directs the Center for Pharmaceutical Policy and Prescribing.\\r\\n\\r\\nSome of the yelling serves a purpose. By highlighting the legitimate concerns about authorizing a vaccine based on limited data, it helped push vaccine makers to announce this week that they would not ask for authorization without first demonstrating safety and efficacy through phase III clinical trials. But there is a downside too. The yelling has taken on a political fervor, mired in the nasty politics of 2020. It is a disservice to public health to start the messaging around our first Covid vaccine by feeding into an atmosphere of mistrust. This will only make it harder to realize the benefits when that vaccine arrives.\\r\\n\\r\\nPublic health leaders would be wise to shift their focus to what is clearly coming—or, at a minimum, to spend less time criticizing the very idea of an emergency authorization of a vaccine and more time in a careful discussion of how to make sure the process works as intended.\\r\\n\\r\\nFirst, we need to continue to push for full transparency of the data on safety and efficacy before a vaccine is authorized. The public is demanding this, and the politics of the moment require it. The FDA has scheduled an advisory committee meeting for October 22 to discuss Covid vaccines, although the official meeting announcement states that no specific vaccine authorization will be discussed. If that remains the case, then the data on safety and efficacy for whichever vaccine ends up being authorized may not be discussed publicly beforehand, despite the FDA’s earlier assurances. In the current climate, this would be an especially bad idea. Members of the public, and public health experts, should have an opportunity to review the data before authorization is given. Typically, the FDA provides a very short lead time, posting advisory committee meeting materials and the list of participants two days prior to a meeting. In this case, the FDA should consider an earlier release with full transparency about which key stakeholders will be represented on the committee.\\r\\n\\r\\nRead all of our coronavirus coverage here.\\r\\n\\r\\nSecond, we need more discussion about how to give the public a clear and consistent message about the vaccine while acknowledging uncertainty. It should be very clear, for example, that an authorization for the vaccine does not mean that anyone will be forced to get vaccinated, nor does it suggest that the public will have access to the vaccine right away. If a vaccine is authorized for emergency use on November 1, people won’t be lining up on the streets to get the vaccine on November 2. This distinction between the date of authorization and the date on which the public will start receiving the vaccine has so far been lost in the discussion, and it should be made very clear to set reasonable expectations. So should the fact that the first vaccine to be authorized could be targeted towards high-risk individuals, with no access whatsoever for the general public, or that multiple vaccines could be authorized at the same time.\\r\\n\\r\\nOther communication issues also need attention. How will we counter social media misinformation and foreign interference once a vaccine is available? This misinformation campaign will take advantage of any disagreement among experts to sow confusion and uncertainty about the vaccine. Public health leaders need to think carefully about what they say about a vaccine right now, and how it could end up feeding into this environment. We need a plan for explaining any newfound or potential side effects of the vaccine after it has been rolled out. How can we responsibly discuss the first adverse event that may be related to the vaccine without its devolving into politicized \"I told you so\" complaints or becoming additional fodder for misinformation campaigns? Initial stories of ill effects from hydroxychloroquine were poorly vetted by public health experts and led to disproportionate concerns about the treatment. These, in turn, produced even more confusion and misinformation. If we overreact in a similar fashion to early anecdotes about a new vaccine, the consequences would be much worse.',\n",
       "  nan,\n",
       "  'https://www.wired.com/story/stop-yelling-about-a-rushed-vaccine-and-start-planning-for-it/'],\n",
       " ['Twitter to start explaining why its trending section is such a nightmare',\n",
       "  'Twitter to start explaining why its trending section is such a nightmare Twitter knows its trending section is a confusing mess.\\r\\n\\r\\nIn an effort to rectify that, the company that brought us trending gems like \"demon sperm\" plans to revamp the section in an attempt to answer the seemingly unanswerable question of \"Why the hell is this thing trending?\"\\r\\n\\r\\nTo accomplish this, Twitter is taking a two-pronged approach. Starting today, for some trends, the company will include what it deems to be a representative tweet at the top of a trending page. In the near future, Twitter will also add \"brief descriptions\" to some trending pages.\\r\\n\\r\\n\"[Some] trends will have a representative Tweet pinned to them to give you more insight about a trend right away,\" wrote Twitter product manager Frank Oppong and Twitter product trust partner Liz Lee in a press release announcing the change. \"A combination of algorithms and our curation team determine if a Tweet represents a trend by evaluating if the Tweet is very reflective of the trend and popular.\"\\r\\n\\r\\nA representative tweet Image: twitter Some context Image: twitter\\r\\n\\r\\nWhen it comes to the descriptions the company will add to some trends in the future, the press release notes that these \"will provide straightforward, clearly sourced context around why something is trending.\"\\r\\n\\r\\nWouldn\\'t that be nice?\\r\\n\\r\\nInterestingly, a strikingly similar idea was proposed over a year ago by Chrissy Teigen.\\r\\n\\r\\n\"it takes me too long to find out why something is trending,\" she wrote in August of last year. \"twitter should first tell you why something is trending, at the top, rather than 8 million people continuing to make it trend by asking why it\\'s trending I dunno\"\\r\\n\\r\\nit takes me too long to find out why something is trending. twitter should first tell you why something is trending, at the top, rather than 8 million people continuing to make it trend by asking why it\\'s trending I dunno — christine teigen (@chrissyteigen) August 13, 2019\\r\\n\\r\\nIn its press release, Twitter says that \"why is this trending\" was tweeted over a half million times last year, so it appears Teigen was on to something.\\r\\n\\r\\nSEE ALSO: Twitter\\'s trending section is an extra hellish minefield during the pandemic\\r\\n\\r\\nThe changes start rolling out today on iOS and Android in Argentina, Australia, Brazil, Canada, Colombia, Egypt, France, India, Ireland, Japan, Mexico, New Zealand, Saudi Arabia, Spain, the United Kingdom, the United Arab Emirates, and the United States.',\n",
       "  '2020-09-01 17:30:00+00:00',\n",
       "  'https://mashable.com/article/twitter-feature-to-answer-why-is-this-trending/'],\n",
       " ['How Facebook’s new election rules sidestep the real problem',\n",
       "  'How Facebook’s new election rules sidestep the real problem The Interface is a daily column and newsletter about the intersection of social media and democracy. Subscribe here .\\r\\n\\r\\nProgramming note: The Interface will be off Monday for Labor Day.\\r\\n\\r\\nI. The announcements\\r\\n\\r\\nAfter months of deliberations, Facebook gave its answer to the critics who have called for it to put new restrictions on political advertising. The company said it would not accept new political ads in the seven days leading up to the Nov. 3rd US presidential election, but would allow those that had already been approved to continue running. The move was framed as a compromise: campaigns can continue to use Facebook for get-out-the-vote efforts through Election Day, but they’ll lose the ability to test new messages. As a result, it might be harder for candidates to spread misinformation in the final days of the campaign.\\r\\n\\r\\nThere’s a lot to say about the limits and implications of this approach. But there’s also much more to Facebook’s announcement, which included a broad set of measures intended to limit the ability of, uh, someone to spread lies about election safety, voting procedures, and the legitimacy of the outcome.\\r\\n\\r\\nI covered the announcements at The Verge, and it’s worth reading all of them. The other big highlights include limiting forwarding in Messenger to five people per message; promoting accurate voter information at the top of Facebook and Instagram through the election; providing live, official election results through a partnership with Reuters; and adding labels to posts that attempt to declare victory before the results are official, or try to cast doubt on the outcome.\\r\\n\\r\\nAnother notable dimension about the announcements is the way they were announced. They came not from the corporate blog but from CEO Mark Zuckerberg himself, in a Facebook post. And he struck an unusually direct note of concern:\\r\\n\\r\\n“The US elections are just two months away, and with COVID-19 affecting communities across the country, I’m concerned about the challenges people could face when voting,” he wrote. “I’m also worried that with our nation so divided and election results potentially taking days or even weeks to be finalized, there could be an increased risk of civil unrest across the country.”\\r\\n\\r\\nHe continued:\\r\\n\\r\\n“This election is not going to be business as usual. We all have a responsibility to protect our democracy.”\\r\\n\\r\\nII. The reaction\\r\\n\\r\\nHow far will Facebook’s announcements this week go to, as Zuckerberg says, protect our democracy?\\r\\n\\r\\nI think the moves will go a long way toward promoting voter registration and turnout. The Reuters partnership will ensure that a huge number of Americans sees accurate, real-time information about the vote count. And the various policies announced to remove or label problematic posts could inject a welcome dose of reality into the more unhinged conspiracy theories about the election that are now swirling in the fever swamps.\\r\\n\\r\\nAt the same time, as Steve Kovach notes at CNBC, the policies announced Thursday have some obvious limitations. Misinformation in political advertising can continue right up until Election Day, so long as it has been running for at least a week. By the time the new restrictions kick in, mail-in voting will have been underway for weeks. And no label will be able to stop Trump from declaring that he has won, loudly and repeatedly.\\r\\n\\r\\nMeanwhile, on Twitter, Zeynep Tufekci raises the larger point always lurking in the background of these discussions. “There are the details,” she wrote, “and there is this: Mark Zuckerberg, alone, gets to set key rules — with significant consequences — for one of the most important elections in recent history. That should not be lost in the dust of who these changes will hurt or benefit.”\\r\\n\\r\\nI think all of that is fair, and yet I’ve struggled to land on an overall point of view on Facebook’s approach to regulating political speech. The question I keep coming back to is: what exactly is Facebook trying to solve for?\\r\\n\\r\\nIII. The solve\\r\\n\\r\\nBy now, almost everyone accepts that social platforms have a role to play in protecting our democracy — as do average citizens, journalists, and the government itself. In 2016, all four of those groups failed in various ways, and we’ve spent much of the intervening period litigating who was most at fault, and what ought to be done about it.\\r\\n\\r\\nOne way to view Facebook’s announcements on Thursday is as an acknowledgement that when it comes to protecting our democracy, in 2020 the US government cannot be counted upon. Just this week, the president effectively told voters in North Carolina to vote twice — sending in a mail-in ballot, then showing up at the polls to vote again. He has sought to sabotage the post office to make voting by mail more difficult. He won’t commit to leaving office should he lose the election — and “jokes” about never leaving office, period.\\r\\n\\r\\nNone of these are issues a tech platform can solve. But because of their perceived power, the platforms are under strong pressure to take decisive action in response. And they are taking it seriously, Axios reported today, structuring a serious of war-game exercises to prepare for various election disaster scenarios:\\r\\n\\r\\nFacebook, Google, Twitter and Reddit are holding regular meetings with one another, with federal law enforcement — and with intelligence agencies — to discuss potential threats to election integrity. Between March 1 and Aug. 1, Twitter practiced its response to scenarios including foreign interference, leaks of hacked materials and uncertainty following Election Day.\\r\\n\\r\\nMeanwhile, the president continues to use the platforms in transparently anti-democratic ways. On Thursday, while still under criticism for his remarks about North Carolina, he repeated his instructions to all voters that they should both mail in a ballot and show up to vote in person. The post appeared both on Twitter and on Facebook, and both companies left it up. Twitter placed it under a warning label after determining the post could lead people to vote twice, and also prevented people from retweeting it or replying. Facebook added a label underneath saying that mail-in voting has been historically trustworthy.\\r\\n\\r\\nThe basic idea here is to allow for a maximum of political speech, and to answer the most problematic speech with more speech, in the form of labels. The platforms have offered no positive conception of what political speech should be or do there. Instead, they police it as beat cops, running off the worst posts while writing speeding tickets for lesser offenses.\\r\\n\\r\\nThe idea rests upon a foundational belief that both parties are good-faith actors when it comes to political speech, all available evidence to the contrary. And it’s this, more than anything else, that has resulted in Facebook’s strange contortions on the subject. As the press critic and New York University professor Jay Rosen put it:\\r\\n\\r\\n“The media ecosystem around one of our two major parties runs on made up claims and conspiracy theories. Facebook has institutionally committed itself to denial of this fact. It also says it has rules against spreading misinformation. The two commitments are in conflict.”\\r\\n\\r\\nIt’s in such a world that Facebook can make a host of changes to its policies in response to the actions, both actual and predicted, of President Trump, without ever saying the words “President Trump” at all. Company executives clearly feel a moral obligation to act against a grave threat to American democracy — but they cannot bring themselves to name the threat. This posture of impartiality, which Rosen calls “the view from nowhere,” has long been the default stance of the American media.\\r\\n\\r\\nBut it has been in decline for some time now, and for good reason. When you commit yourself to the view from nowhere, you will find, over and over again, that you are being played.\\r\\n\\r\\nIt’s in this sense that the steps Facebook is taking today can be viewed as positive, and also in some larger sense as being beside the point. If you are working at a big social platform and find yourself concerned about the degree to which it is enabling fascism, it’s not enough to simply adjust the boundaries of discourse.\\r\\n\\r\\nYou have to do something about the fascism.\\r\\n\\r\\nIV. A parable\\r\\n\\r\\nA headline from Wednesday evening in The Daily Beast: “Facebook’s Internal Black Lives Matter Debate Got So Bad Zuckerberg Had to Step In.”\\r\\n\\r\\nThe story, by Maxwell Tani and Spencer Ackerman, recounts a controversy that broke out inside the company when one of its 50,000 employees posted a short essay to its internal Workplace forum titled “In Support of Law Enforcement and Black Lives.” The essay, which was posted on Monday, sought to defend police officers in the wake of Wisconsin cops shooting Jacob Blake seven times in the back and leaving him paralyzed. Tani and Ackerman write:\\r\\n\\r\\nThe post called into question the notion of racially disparate outcomes in the criminal-justice system, argued that racism is not a serious motivation in police shootings, railed against “critical race theory,” and claimed narratives about police violence often “conveniently leave out” other factors, including whether the victim was under the influence of drugs or complied with officers’ directives. [...] “My heart goes out to the Blake family,” the staffer wrote on Friday. “It also goes out to the well-intentioned law enforcement officers who have been victimized by society’s conformity to a lie.” The staffer continued: “What if racial, economic, crime, and incarceration gaps cannot close without addressing personal responsibility and adherence to the law?”\\r\\n\\r\\nOn enterprise Facebook, just as it might have on consumer Facebook, the controversial post generated much outrage and engagement. It bubbled to the top of the feeds, and inspired many anguished comments. Its polite, just-asking-questions tone, coupled with clear endorsement of a system that has terrorized Black Americans for centuries, put the company’s commitment to free speech in the workplace to the test. If left unchecked, the post threatened to undermine faith in company leadership.\\r\\n\\r\\nOn consumer Facebook, the post would have stayed up even if it had been reported. But on enterprise Facebook, the post occasioned some reflection. Zuckerberg wrote a note affirming that “systemic racism is real,” and chided “some” employees for not considering the full weight of their words on their Black colleagues. (I obtained a copy.) In response, he said, Facebook would soon move “charged topics” to “dedicated spaces” within Workplace, and added that these forums would have “clear rules and strong moderation.”\\r\\n\\r\\n“You won’t be able to discuss highly charged content broadly in open groups,” he said. “As you know, we deeply value expression and open discussion, but I don’t believe people working here should have to be confronted with divisive conversations while they’re trying to work.”\\r\\n\\r\\nThis is a view from somewhere. It is a positive conception of how a discussion ought to take place. Not just what words or symbols are allowed or disallowed, but how it should be constructed. I have no doubt it will make Facebook a better place to work. And I wonder whether the version of Facebook the rest of us would not benefit from similarly decisive intervention.\\r\\n\\r\\nThe Ratio\\r\\n\\r\\nToday in news that could affect public perception of the big tech platforms.\\r\\n\\r\\nTrending up: Google released a dataset of search trends for researchers to study the link between symptom-related searches and the spread of COVID-19. The goal is to help researchers understand where new outbreaks might occur. (Google)\\r\\n\\r\\nTrending up: Pinterest announced it will no longer show ads to users when they search for elections-related terms on the platform. The company also said employees will get paid time off to vote. (Megan Graham / CNBC)\\r\\n\\r\\nGoverning\\r\\n\\r\\n⭐ The Justice Department plans to bring an antitrust case against Google as soon as this month. Attorney General William Barr overruled lawyers who said they needed more time to build a strong case against the tech giant, and underscored fears that the investigation has been tainted by politics. Katie Benner and Cecilia Kang at The New York Times have the story:\\r\\n\\r\\nA coalition of 50 states and territories support antitrust action against Google, a reflection of the broad bipartisan support that a Justice Department case might have. But state attorneys general conducting their own investigations into the company are split on how to move forward, with Democrats perceived by Republicans as slow-walking the work so that cases can be brought under a potential Biden administration, and Democrats accusing Republicans of rushing it out under Mr. Trump. That disagreement could limit the number of states that join a Justice Department lawsuit and imperil the bipartisan nature of the investigation. Some lawyers in the department worry that Mr. Barr’s determination to bring a complaint this month could weaken their case and ultimately strengthen Google’s hand, according to interviews with 15 lawyers who worked on the case or were briefed on the department’s strategy. They asked not to be named for fear of retribution.\\r\\n\\r\\nFacebook removed a video of the president’s remarks about North Carolina, citing its policies against voter fraud. The company said people can share it if they do so to correct the record. (Ashley Gold / Axios)\\r\\n\\r\\nAs part of Facebook’s study on how social media impacts democracy, the company is paying some users to log off of its products ahead of the 2020 US presidential election. The payments range between $10 and $20 per week, as some users would be asked to deactivate for one week while others could be asked to leave the platform up to six weeks total. (Makena Kelly / The Verge)\\r\\n\\r\\nThe Department of Homeland Security stopped the publication of a memo that described Russian attempts to denigrate Joe Biden’s mental health. The unusual move has prompted new scrutiny of political influence at the department. (Zolan Kanno-Youngs / The New York Times)\\r\\n\\r\\nMark Zuckerberg said the company removed a militia event where people discussed gathering in Kenosha, Wisconsin, to shoot and kill protesters. But in fact, the militia took down the event themselves the day after two people were killed. (Ryan Mac and Craig Silverman / BuzzFeed)\\r\\n\\r\\nActivists are calling on Facebook to ban armed event listings in the wake of the Kenosha shooting. They also called for a broad enhancement of Facebook’s moderation against extremism, including more automated tools for proactive enforcement and better systems for detecting event pages that promote violence. (Russell Brandom / The Verge)\\r\\n\\r\\nFacebook banned a member of India’s ruling party for violating its policies against hate speech. The move reversed an earlier decision, led by Facebook policy executive Ankhi Das, not to punish the politician. Das said it could hurt the company’s business interests in the country. (Newley Purnell and Rajesh Roy / The Wall Street Journal)\\r\\n\\r\\nA Facebook video of an assault led to the arrest of seven men after it was found by the victim’s mother. The video showed the men assaulted the 16-year-old while she was unconscious. (Michael Levenson / The New York Times)\\r\\n\\r\\nThe Lafayette city government is suing the man behind a series of satirical antifa Facebook events that police responded to this summer. The lawsuit says the hoaxes cost taxpayers a considerable amount. The man said he’s using satire as a form of activism and protest. (Megan Wyatt / The Acadiana Advocate)\\r\\n\\r\\nChina emphasized its power in the TikTok sale, saying it has the right to approve or block the sale of technology abroad. The government’s decision to add several artificial intelligence features to a list of export-restricted technologies has thrown a wrench in the TikTok deal. (Bloomberg)\\r\\n\\r\\nSoftBank is starting to put together a bid for TikTok in India. The firm is said to be assembling a group of investors, and is actively looking for local partners. (Pavel Alpeyev, Giles Turner and Sarah McBride / Bloomberg)\\r\\n\\r\\nAmazon Flex drivers say they are not surprised the company has been spying on them in private Facebook groups. “...We are watched to prevent any mass resistance, which could bother Amazon,” said the admin of one group. Amazon has now ended the social media monitoring program. (Lauren Kaori Gurley / Vice)\\r\\n\\r\\nIndustry\\r\\n\\r\\n⭐ Apple will delay the enforcement of a controversial change to its mobile operating system that would upend how ads are targeted on iPhones and iPads. The change in iOS 14, the next version of Apple’s mobile software, will require developers to ask users to share their device’s unique identifier for advertising purposes through a prompt. Here’s Alex Heath at The Information:\\r\\n\\r\\nApple has positioned the new prompt as a pro-privacy move that puts users in control of their data. But the proposed change has caused panic among marketers and developers that rely on targeted ads to reach consumers. Mobile developers and advertisers who spoke to The Information said they’ve had little time to prepare for the change, announced in June of this year, and that Apple hasn’t provided a clear workaround that lets them target their ads without the IDFA. After this story was published Thursday, Apple confirmed that it would delay the enforcement of its IDFA prompt until 2021. Developers will still be able to ask users for permission to share their IDFA when iOS 14 is released this fall, though asking users through the prompt won’t be mandatory.\\r\\n\\r\\nSnapchat had its single largest month of first-time downloads since May 2019 in August amid TikTok uncertainty. The app saw approximately 28.5 million new installs last month. (Sarah Perez / TechCrunch)\\r\\n\\r\\nInstagram launched a separate tab for Reels in India, two months after launching the feature. Will this help the feature take off globally? (Anumeha Chaturvedi / The Economic Times)\\r\\n\\r\\nFacebook released details about an experiment on “perceptual superpowers” — AR systems that figure out what you’re trying to hear, then amplify it and dampen background noise. The project shows how sound could play a major role in augmented reality. (Adi Robertson / The Verge)\\r\\n\\r\\nFacebook’s streaming platform, Facebook Watch, has reached 1.25 billion monthly users. If you count watching one minute of video as a user. Which, come on. (Todd Spangler / Variety)\\r\\n\\r\\nFacebook Watch introduced a new feature called “Your Topics” that will allow you to further personalize your feed. Sorry, I only watch Watch one minute per month. (Sarah Perez / TechCrunch)\\r\\n\\r\\nAnd finally...\\r\\n\\r\\n*First day of high school\\r\\n\\r\\n\\r\\n\\r\\nMe to my son: So exciting you have a few teachers I had!!\\r\\n\\r\\n\\r\\n\\r\\nMy son (from class): pic.twitter.com/HvIHRtnwNh — Leslie Berland (@leslieberland) September 2, 2020\\r\\n\\r\\n“Hope this email finds you well”\\r\\n\\r\\nHow the email found me: pic.twitter.com/UwLoApi1mD — Mrs. Kitty Parker (@_joydoe) August 26, 2020\\r\\n\\r\\nthis is every trump bot account pic.twitter.com/C4oE7UWp2U — kylie brakeman (@deadeyebrakeman) September 2, 2020\\r\\n\\r\\nTalk to us\\r\\n\\r\\nSend us tips, comments, questions, and the most controversial post inside Facebook right now: casey@theverge.com and zoe@theverge.com.',\n",
       "  '2020-09-04 00:00:00',\n",
       "  'https://www.theverge.com/interface/2020/9/4/21420096/facebook-election-ad-limits-labels-limits-view-from-nowhere-jay-rosen'],\n",
       " ['How Facebook’s new election rules sidestep the real problem',\n",
       "  'How Facebook’s new election rules sidestep the real problem The Interface is a daily column and newsletter about the intersection of social media and democracy. Subscribe here .\\r\\n\\r\\nProgramming note: The Interface will be off Monday for Labor Day.\\r\\n\\r\\nI. The announcements\\r\\n\\r\\nAfter months of deliberations, Facebook gave its answer to the critics who have called for it to put new restrictions on political advertising. The company said it would not accept new political ads in the seven days leading up to the Nov. 3rd US presidential election, but would allow those that had already been approved to continue running. The move was framed as a compromise: campaigns can continue to use Facebook for get-out-the-vote efforts through Election Day, but they’ll lose the ability to test new messages. As a result, it might be harder for candidates to spread misinformation in the final days of the campaign.\\r\\n\\r\\nThere’s a lot to say about the limits and implications of this approach. But there’s also much more to Facebook’s announcement, which included a broad set of measures intended to limit the ability of, uh, someone to spread lies about election safety, voting procedures, and the legitimacy of the outcome.\\r\\n\\r\\nI covered the announcements at The Verge, and it’s worth reading all of them. The other big highlights include limiting forwarding in Messenger to five people per message; promoting accurate voter information at the top of Facebook and Instagram through the election; providing live, official election results through a partnership with Reuters; and adding labels to posts that attempt to declare victory before the results are official, or try to cast doubt on the outcome.\\r\\n\\r\\nAnother notable dimension about the announcements is the way they were announced. They came not from the corporate blog but from CEO Mark Zuckerberg himself, in a Facebook post. And he struck an unusually direct note of concern:\\r\\n\\r\\n“The US elections are just two months away, and with COVID-19 affecting communities across the country, I’m concerned about the challenges people could face when voting,” he wrote. “I’m also worried that with our nation so divided and election results potentially taking days or even weeks to be finalized, there could be an increased risk of civil unrest across the country.”\\r\\n\\r\\nHe continued:\\r\\n\\r\\n“This election is not going to be business as usual. We all have a responsibility to protect our democracy.”\\r\\n\\r\\nII. The reaction\\r\\n\\r\\nHow far will Facebook’s announcements this week go to, as Zuckerberg says, protect our democracy?\\r\\n\\r\\nI think the moves will go a long way toward promoting voter registration and turnout. The Reuters partnership will ensure that a huge number of Americans sees accurate, real-time information about the vote count. And the various policies announced to remove or label problematic posts could inject a welcome dose of reality into the more unhinged conspiracy theories about the election that are now swirling in the fever swamps.\\r\\n\\r\\nAt the same time, as Steve Kovach notes at CNBC, the policies announced Thursday have some obvious limitations. Misinformation in political advertising can continue right up until Election Day, so long as it has been running for at least a week. By the time the new restrictions kick in, mail-in voting will have been underway for weeks. And no label will be able to stop Trump from declaring that he has won, loudly and repeatedly.\\r\\n\\r\\nMeanwhile, on Twitter, Zeynep Tufekci raises the larger point always lurking in the background of these discussions. “There are the details,” she wrote, “and there is this: Mark Zuckerberg, alone, gets to set key rules — with significant consequences — for one of the most important elections in recent history. That should not be lost in the dust of who these changes will hurt or benefit.”\\r\\n\\r\\nI think all of that is fair, and yet I’ve struggled to land on an overall point of view on Facebook’s approach to regulating political speech. The question I keep coming back to is: what exactly is Facebook trying to solve for?\\r\\n\\r\\nIII. The solve\\r\\n\\r\\nBy now, almost everyone accepts that social platforms have a role to play in protecting our democracy — as do average citizens, journalists, and the government itself. In 2016, all four of those groups failed in various ways, and we’ve spent much of the intervening period litigating who was most at fault, and what ought to be done about it.\\r\\n\\r\\nOne way to view Facebook’s announcements on Thursday is as an acknowledgement that when it comes to protecting our democracy, in 2020 the US government cannot be counted upon. Just this week, the president effectively told voters in North Carolina to vote twice — sending in a mail-in ballot, then showing up at the polls to vote again. He has sought to sabotage the post office to make voting by mail more difficult. He won’t commit to leaving office should he lose the election — and “jokes” about never leaving office, period.\\r\\n\\r\\nNone of these are issues a tech platform can solve. But because of their perceived power, the platforms are under strong pressure to take decisive action in response. And they are taking it seriously, Axios reported today, structuring a serious of war-game exercises to prepare for various election disaster scenarios:\\r\\n\\r\\nFacebook, Google, Twitter and Reddit are holding regular meetings with one another, with federal law enforcement — and with intelligence agencies — to discuss potential threats to election integrity. Between March 1 and Aug. 1, Twitter practiced its response to scenarios including foreign interference, leaks of hacked materials and uncertainty following Election Day.\\r\\n\\r\\nMeanwhile, the president continues to use the platforms in transparently anti-democratic ways. On Thursday, while still under criticism for his remarks about North Carolina, he repeated his instructions to all voters that they should both mail in a ballot and show up to vote in person. The post appeared both on Twitter and on Facebook, and both companies left it up. Twitter placed it under a warning label after determining the post could lead people to vote twice, and also prevented people from retweeting it or replying. Facebook added a label underneath saying that mail-in voting has been historically trustworthy.\\r\\n\\r\\nThe basic idea here is to allow for a maximum of political speech, and to answer the most problematic speech with more speech, in the form of labels. The platforms have offered no positive conception of what political speech should be or do there. Instead, they police it as beat cops, running off the worst posts while writing speeding tickets for lesser offenses.\\r\\n\\r\\nThe idea rests upon a foundational belief that both parties are good-faith actors when it comes to political speech, all available evidence to the contrary. And it’s this, more than anything else, that has resulted in Facebook’s strange contortions on the subject. As the press critic and New York University professor Jay Rosen put it:\\r\\n\\r\\n“The media ecosystem around one of our two major parties runs on made up claims and conspiracy theories. Facebook has institutionally committed itself to denial of this fact. It also says it has rules against spreading misinformation. The two commitments are in conflict.”\\r\\n\\r\\nIt’s in such a world that Facebook can make a host of changes to its policies in response to the actions, both actual and predicted, of President Trump, without ever saying the words “President Trump” at all. Company executives clearly feel a moral obligation to act against a grave threat to American democracy — but they cannot bring themselves to name the threat. This posture of impartiality, which Rosen calls “the view from nowhere,” has long been the default stance of the American media.\\r\\n\\r\\nBut it has been in decline for some time now, and for good reason. When you commit yourself to the view from nowhere, you will find, over and over again, that you are being played.\\r\\n\\r\\nIt’s in this sense that the steps Facebook is taking today can be viewed as positive, and also in some larger sense as being beside the point. If you are working at a big social platform and find yourself concerned about the degree to which it is enabling fascism, it’s not enough to simply adjust the boundaries of discourse.\\r\\n\\r\\nYou have to do something about the fascism.\\r\\n\\r\\nIV. A parable\\r\\n\\r\\nA headline from Wednesday evening in The Daily Beast: “Facebook’s Internal Black Lives Matter Debate Got So Bad Zuckerberg Had to Step In.”\\r\\n\\r\\nThe story, by Maxwell Tani and Spencer Ackerman, recounts a controversy that broke out inside the company when one of its 50,000 employees posted a short essay to its internal Workplace forum titled “In Support of Law Enforcement and Black Lives.” The essay, which was posted on Monday, sought to defend police officers in the wake of Wisconsin cops shooting Jacob Blake seven times in the back and leaving him paralyzed. Tani and Ackerman write:\\r\\n\\r\\nThe post called into question the notion of racially disparate outcomes in the criminal-justice system, argued that racism is not a serious motivation in police shootings, railed against “critical race theory,” and claimed narratives about police violence often “conveniently leave out” other factors, including whether the victim was under the influence of drugs or complied with officers’ directives. [...] “My heart goes out to the Blake family,” the staffer wrote on Friday. “It also goes out to the well-intentioned law enforcement officers who have been victimized by society’s conformity to a lie.” The staffer continued: “What if racial, economic, crime, and incarceration gaps cannot close without addressing personal responsibility and adherence to the law?”\\r\\n\\r\\nOn enterprise Facebook, just as it might have on consumer Facebook, the controversial post generated much outrage and engagement. It bubbled to the top of the feeds, and inspired many anguished comments. Its polite, just-asking-questions tone, coupled with clear endorsement of a system that has terrorized Black Americans for centuries, put the company’s commitment to free speech in the workplace to the test. If left unchecked, the post threatened to undermine faith in company leadership.\\r\\n\\r\\nOn consumer Facebook, the post would have stayed up even if it had been reported. But on enterprise Facebook, the post occasioned some reflection. Zuckerberg wrote a note affirming that “systemic racism is real,” and chided “some” employees for not considering the full weight of their words on their Black colleagues. (I obtained a copy.) In response, he said, Facebook would soon move “charged topics” to “dedicated spaces” within Workplace, and added that these forums would have “clear rules and strong moderation.”\\r\\n\\r\\n“You won’t be able to discuss highly charged content broadly in open groups,” he said. “As you know, we deeply value expression and open discussion, but I don’t believe people working here should have to be confronted with divisive conversations while they’re trying to work.”\\r\\n\\r\\nThis is a view from somewhere. It is a positive conception of how a discussion ought to take place. Not just what words or symbols are allowed or disallowed, but how it should be constructed. I have no doubt it will make Facebook a better place to work. And I wonder whether the version of Facebook the rest of us would not benefit from similarly decisive intervention.\\r\\n\\r\\nThe Ratio\\r\\n\\r\\nToday in news that could affect public perception of the big tech platforms.\\r\\n\\r\\nTrending up: Google released a dataset of search trends for researchers to study the link between symptom-related searches and the spread of COVID-19. The goal is to help researchers understand where new outbreaks might occur. (Google)\\r\\n\\r\\nTrending up: Pinterest announced it will no longer show ads to users when they search for elections-related terms on the platform. The company also said employees will get paid time off to vote. (Megan Graham / CNBC)\\r\\n\\r\\nGoverning\\r\\n\\r\\n⭐ The Justice Department plans to bring an antitrust case against Google as soon as this month. Attorney General William Barr overruled lawyers who said they needed more time to build a strong case against the tech giant, and underscored fears that the investigation has been tainted by politics. Katie Benner and Cecilia Kang at The New York Times have the story:\\r\\n\\r\\nA coalition of 50 states and territories support antitrust action against Google, a reflection of the broad bipartisan support that a Justice Department case might have. But state attorneys general conducting their own investigations into the company are split on how to move forward, with Democrats perceived by Republicans as slow-walking the work so that cases can be brought under a potential Biden administration, and Democrats accusing Republicans of rushing it out under Mr. Trump. That disagreement could limit the number of states that join a Justice Department lawsuit and imperil the bipartisan nature of the investigation. Some lawyers in the department worry that Mr. Barr’s determination to bring a complaint this month could weaken their case and ultimately strengthen Google’s hand, according to interviews with 15 lawyers who worked on the case or were briefed on the department’s strategy. They asked not to be named for fear of retribution.\\r\\n\\r\\nFacebook removed a video of the president’s remarks about North Carolina, citing its policies against voter fraud. The company said people can share it if they do so to correct the record. (Ashley Gold / Axios)\\r\\n\\r\\nAs part of Facebook’s study on how social media impacts democracy, the company is paying some users to log off of its products ahead of the 2020 US presidential election. The payments range between $10 and $20 per week, as some users would be asked to deactivate for one week while others could be asked to leave the platform up to six weeks total. (Makena Kelly / The Verge)\\r\\n\\r\\nThe Department of Homeland Security stopped the publication of a memo that described Russian attempts to denigrate Joe Biden’s mental health. The unusual move has prompted new scrutiny of political influence at the department. (Zolan Kanno-Youngs / The New York Times)\\r\\n\\r\\nMark Zuckerberg said the company removed a militia event where people discussed gathering in Kenosha, Wisconsin, to shoot and kill protesters. But in fact, the militia took down the event themselves the day after two people were killed. (Ryan Mac and Craig Silverman / BuzzFeed)\\r\\n\\r\\nActivists are calling on Facebook to ban armed event listings in the wake of the Kenosha shooting. They also called for a broad enhancement of Facebook’s moderation against extremism, including more automated tools for proactive enforcement and better systems for detecting event pages that promote violence. (Russell Brandom / The Verge)\\r\\n\\r\\nFacebook banned a member of India’s ruling party for violating its policies against hate speech. The move reversed an earlier decision, led by Facebook policy executive Ankhi Das, not to punish the politician. Das said it could hurt the company’s business interests in the country. (Newley Purnell and Rajesh Roy / The Wall Street Journal)\\r\\n\\r\\nA Facebook video of an assault led to the arrest of seven men after it was found by the victim’s mother. The video showed the men assaulted the 16-year-old while she was unconscious. (Michael Levenson / The New York Times)\\r\\n\\r\\nThe Lafayette city government is suing the man behind a series of satirical antifa Facebook events that police responded to this summer. The lawsuit says the hoaxes cost taxpayers a considerable amount. The man said he’s using satire as a form of activism and protest. (Megan Wyatt / The Acadiana Advocate)\\r\\n\\r\\nChina emphasized its power in the TikTok sale, saying it has the right to approve or block the sale of technology abroad. The government’s decision to add several artificial intelligence features to a list of export-restricted technologies has thrown a wrench in the TikTok deal. (Bloomberg)\\r\\n\\r\\nSoftBank is starting to put together a bid for TikTok in India. The firm is said to be assembling a group of investors, and is actively looking for local partners. (Pavel Alpeyev, Giles Turner and Sarah McBride / Bloomberg)\\r\\n\\r\\nAmazon Flex drivers say they are not surprised the company has been spying on them in private Facebook groups. “...We are watched to prevent any mass resistance, which could bother Amazon,” said the admin of one group. Amazon has now ended the social media monitoring program. (Lauren Kaori Gurley / Vice)\\r\\n\\r\\nIndustry\\r\\n\\r\\n⭐ Apple will delay the enforcement of a controversial change to its mobile operating system that would upend how ads are targeted on iPhones and iPads. The change in iOS 14, the next version of Apple’s mobile software, will require developers to ask users to share their device’s unique identifier for advertising purposes through a prompt. Here’s Alex Heath at The Information:\\r\\n\\r\\nApple has positioned the new prompt as a pro-privacy move that puts users in control of their data. But the proposed change has caused panic among marketers and developers that rely on targeted ads to reach consumers. Mobile developers and advertisers who spoke to The Information said they’ve had little time to prepare for the change, announced in June of this year, and that Apple hasn’t provided a clear workaround that lets them target their ads without the IDFA. After this story was published Thursday, Apple confirmed that it would delay the enforcement of its IDFA prompt until 2021. Developers will still be able to ask users for permission to share their IDFA when iOS 14 is released this fall, though asking users through the prompt won’t be mandatory.\\r\\n\\r\\nSnapchat had its single largest month of first-time downloads since May 2019 in August amid TikTok uncertainty. The app saw approximately 28.5 million new installs last month. (Sarah Perez / TechCrunch)\\r\\n\\r\\nInstagram launched a separate tab for Reels in India, two months after launching the feature. Will this help the feature take off globally? (Anumeha Chaturvedi / The Economic Times)\\r\\n\\r\\nFacebook released details about an experiment on “perceptual superpowers” — AR systems that figure out what you’re trying to hear, then amplify it and dampen background noise. The project shows how sound could play a major role in augmented reality. (Adi Robertson / The Verge)\\r\\n\\r\\nFacebook’s streaming platform, Facebook Watch, has reached 1.25 billion monthly users. If you count watching one minute of video as a user. Which, come on. (Todd Spangler / Variety)\\r\\n\\r\\nFacebook Watch introduced a new feature called “Your Topics” that will allow you to further personalize your feed. Sorry, I only watch Watch one minute per month. (Sarah Perez / TechCrunch)\\r\\n\\r\\nAnd finally...\\r\\n\\r\\n*First day of high school\\r\\n\\r\\n\\r\\n\\r\\nMe to my son: So exciting you have a few teachers I had!!\\r\\n\\r\\n\\r\\n\\r\\nMy son (from class): pic.twitter.com/HvIHRtnwNh — Leslie Berland (@leslieberland) September 2, 2020\\r\\n\\r\\n“Hope this email finds you well”\\r\\n\\r\\nHow the email found me: pic.twitter.com/UwLoApi1mD — Mrs. Kitty Parker (@_joydoe) August 26, 2020\\r\\n\\r\\nthis is every trump bot account pic.twitter.com/C4oE7UWp2U — kylie brakeman (@deadeyebrakeman) September 2, 2020\\r\\n\\r\\nTalk to us\\r\\n\\r\\nSend us tips, comments, questions, and the most controversial post inside Facebook right now: casey@theverge.com and zoe@theverge.com.',\n",
       "  '2020-09-04 00:00:00',\n",
       "  'https://www.theverge.com/interface/2020/9/4/21420096/facebook-election-ad-limits-labels-limits-view-from-nowhere-jay-rosen']]"
      ]
     },
     "execution_count": 27,
     "metadata": {},
     "output_type": "execute_result"
    }
   ],
   "source": [
    "recommend('Uber launches car rentals in the UK for maximum social distancing')"
   ]
  },
  {
   "cell_type": "code",
   "execution_count": 28,
   "metadata": {},
   "outputs": [
    {
     "data": {
      "text/plain": [
       "[['India and China made a useful decision on de-escalation at border, says Russia',\n",
       "  'India and China made a useful decision on de-escalation at border, says Russia Russian Foreign Minister Sergei Lavrov attends a meeting with his Pakistani counterpart Shah Mahmood Qureshi in Moscow, Russia September 10, 2020. Russian Foreign Ministry/Handout via REUTERS\\r\\n\\r\\nMOSCOW (Reuters) - India and China have made a useful decision on de-escalating tensions on their disputed Himalayan border, Russian Foreign Minister Sergei Lavrov said on Friday, speaking alongside his Chinese counterpart.\\r\\n\\r\\nEarlier on Friday, China and India said they had agreed to de-escalate renewed tensions and take steps to restore “peace and tranquillity” following a high-level diplomatic meeting in Moscow.',\n",
       "  '2020-09-11 10:29:11+00:00',\n",
       "  'https://in.reuters.com/article/india-china-russia-lavrov-idINKBN2621EA'],\n",
       " [],\n",
       " ['China, India agree to disengage troops on contested border',\n",
       "  \"China, India agree to disengage troops on contested border BEIJING/NEW DELHI (Reuters) - China and India said on Friday they had agreed to de-escalate renewed tensions on their contested Himalayan border and take steps to restore “peace and tranquillity” following a high-level diplomatic meeting in Moscow.\\r\\n\\r\\nRussia's Foreign Minister Sergei Lavrov, India's Foreign Minister Subrahmanyam Jaishankar and China's State Councillor Wang Yi pose for a picture during a meeting in Moscow, Russia September 10, 2020. Russian Foreign Ministry/Handout via REUTERS\\r\\n\\r\\nChinese State Councillor Wang Yi and Indian Foreign Minister S. Jaishankar met in Moscow on Thursday and reached a five-point consensus, including agreements that troops from both sides should quickly disengage and ease tensions, the two countries said in a joint statement.\\r\\n\\r\\nThe consensus, struck on the sidelines of a Shanghai Cooperation Organisation meeting, came after a confrontation in the border area in the western Himalayas earlier this week.\\r\\n\\r\\n“The two Foreign Ministers agreed that the current situation in the border areas is not in the interest of either side. They agreed therefore that the border troops of both sides should continue their dialogue, quickly disengage, maintain proper distance and ease tensions,” they said in the statement.\\r\\n\\r\\nJaishankar told Wang that the immediate task would be for troops to step back from the “areas of friction” so that things do not get worse, an Indian source said. Troops are barely a few hundred metres apart at some points.\\r\\n\\r\\nChina and India accused each other of firing into the air during the confrontation, a violation of long-held protocol not to use firearms on the sensitive frontier.\\r\\n\\r\\nWang told Jaishankar the “imperative is to immediately stop provocations such as firing and other dangerous actions that violate the commitments made by the two sides,” China’s foreign ministry said in a statement on Friday.\\r\\n\\r\\nWang also told Jaishankar all personnel and equipment that have trespassed at the border must be moved to de-escalate the situation.\\r\\n\\r\\nIn June, tensions erupted into a frontier clash in which 20 Indian soldiers were killed and China suffered an unspecified number of casualties.\\r\\n\\r\\nShares of defence-related firms fell in China on Friday after the news of progress in the talks, with the CSI National Defense Industry Index down 1.2% and on track for its steepest weekly decline since Oct. 12, 2018. Tongyu Heavy Industry shares tumbled as much as 16.4% at one point.\\r\\n\\r\\nCHINESE BUILDUP\\r\\n\\r\\nThe ministers’ meeting lasted for two hours and was the latest diplomatic effort to head off a broader conflict between the world’s two most populous countries, which went to war in 1962.\\r\\n\\r\\nJaishankar told Wang that India was deeply concerned about the buildup of Chinese forces on the Line of Actual Control on the poorly defined border.\\r\\n\\r\\n“The Chinese side has not provided a credible explanation for this deployment,” an Indian government source quoted Jaishankar as saying at the meeting.\\r\\n\\r\\n“The provocative behavior of Chinese frontline troops at numerous incidents of friction along the LAC also showed disregard for bilateral agreements and protocols,” Jaishankar said, adding any unilateral attempt to change status quo would be resisted.\\r\\n\\r\\nChina’s Global Times, an influential tabloid published by the official newspaper of China’s ruling Communist Party, reported on Wednesday the People’s Liberation Army (PLA) were moving soldiers, bombers and armoured vehicles into the border.\\r\\n\\r\\nChinese state media also recently reported armed jump drills by PLA paratroopers in Tibet.\\r\\n\\r\\nThe Global Times said in an editorial published late on Thursday that any talks with India should be paired with “war readiness”.\\r\\n\\r\\n“The Chinese side must be fully prepared to take military action when diplomatic engagement fails, and its frontline troops must be able to respond to emergencies, and be ready to fight at any time,” the newspaper said.\",\n",
       "  '2020-09-11 02:23:42+00:00',\n",
       "  'https://in.reuters.com/article/india-china-idINKBN26209B'],\n",
       " [],\n",
       " ['India, China foreign ministers agree to quickly disengage border troops',\n",
       "  'India, China foreign ministers agree to quickly disengage border troops An Indian fighter plane flies over a mountain range in Leh, in the Ladakh region, September 9, 2020. REUTERS/Stringer\\r\\n\\r\\nNEW DELHI (Reuters) - The foreign ministers of India and China have agreed that troops of the two countries must quickly disengage from a border standoff, they said in a joint statement issued on Friday.\\r\\n\\r\\nForeign Ministers S. Jaishankar and Wang Yi met in Moscow on Thursday on the sidelines of a conference to try and end the months-long dispute on the undemarcated border, the most serious in decades.\\r\\n\\r\\n“The two Foreign Ministers agreed that the current situation in the border areas is not in the interest of either side. They agreed therefore that the border troops of both sides should continue their dialogue, quickly disengage, maintain proper distance and ease tensions,” they said in the statement.',\n",
       "  '2020-09-11 01:38:35+00:00',\n",
       "  'https://in.reuters.com/article/india-china-statement-idINKBN26205Q']]"
      ]
     },
     "execution_count": 28,
     "metadata": {},
     "output_type": "execute_result"
    }
   ],
   "source": [
    "recommend('China, India agree to disengage troops on contested border')"
   ]
  },
  {
   "cell_type": "code",
   "execution_count": null,
   "metadata": {},
   "outputs": [],
   "source": [
    "import pickle"
   ]
  },
  {
   "cell_type": "code",
   "execution_count": null,
   "metadata": {},
   "outputs": [],
   "source": [
    "pickle.dump(newses,open('news.pkl','wb'))"
   ]
  },
  {
   "cell_type": "code",
   "execution_count": null,
   "metadata": {},
   "outputs": [],
   "source": [
    "pickle.dump(newses,open('newses.pkl','wb'))\n",
    "pickle.dump(new,open('new.pkl','wb'))\n",
    "pickle.dump(similarity,open('similarity.pkl','wb'))"
   ]
  },
  {
   "cell_type": "markdown",
   "metadata": {},
   "source": [
    "<h1>END</h1>"
   ]
  }
 ],
 "metadata": {
  "kernelspec": {
   "display_name": "Python 3",
   "language": "python",
   "name": "python3"
  },
  "language_info": {
   "codemirror_mode": {
    "name": "ipython",
    "version": 3
   },
   "file_extension": ".py",
   "mimetype": "text/x-python",
   "name": "python",
   "nbconvert_exporter": "python",
   "pygments_lexer": "ipython3",
   "version": "3.12.6"
  }
 },
 "nbformat": 4,
 "nbformat_minor": 4
}
